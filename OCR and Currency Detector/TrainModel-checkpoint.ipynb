{
 "cells": [
  {
   "cell_type": "code",
   "execution_count": 1,
   "metadata": {},
   "outputs": [
    {
     "name": "stderr",
     "output_type": "stream",
     "text": [
      "Using TensorFlow backend.\n"
     ]
    }
   ],
   "source": [
    "from keras.models import Sequential\n",
    "import keras\n",
    "from keras.layers import MaxPooling2D,Conv2D,Flatten,Dense, Dropout\n",
    "import numpy as np\n",
    "import matplotlib.pyplot as plt"
   ]
  },
  {
   "cell_type": "code",
   "execution_count": 2,
   "metadata": {},
   "outputs": [],
   "source": [
    "model=Sequential()\n",
    "model.add(Conv2D(32,kernel_size=(3,3),input_shape=(256,256,3),activation='relu'))\n",
    "\n",
    "model.add(MaxPooling2D(pool_size=(2,2)))\n",
    "model.add(Flatten())\n",
    "model.add(Dense(units=64,activation='relu'))\n",
    "model.add(Dense(units=1,activation='sigmoid'))\n",
    "\n",
    "# model = Sequential()\n",
    "# model.add(Conv2D(32, (3,3), input_shape = (256, 256, 3), activation = 'relu'))\n",
    "# model.add(MaxPooling2D(pool_size = (2,2)))\n",
    "\n",
    "# model.add(Conv2D(32, (3,3), activation = 'relu'))\n",
    "# model.add(MaxPooling2D(pool_size = (2,2)))\n",
    "\n",
    "# model.add(Conv2D(64, (3,3), activation = 'relu'))\n",
    "# model.add(MaxPooling2D(pool_size=(2,2)))\n",
    "\n",
    "\n",
    "# model.add(Flatten())\n",
    "# model.add(Dense(64,activation = 'relu'))\n",
    "# model.add(Dropout(0.25))\n",
    "# model.add(Dense(1, activation = 'sigmoid'))\n",
    "\n",
    "model.compile(loss = 'binary_crossentropy',\n",
    "              optimizer = 'rmsprop',\n",
    "              metrics = ['accuracy'])\n"
   ]
  },
  {
   "cell_type": "code",
   "execution_count": 3,
   "metadata": {},
   "outputs": [],
   "source": [
    "#model.compile(optimizer='adam',loss='binary_crossentropy',metrics=['accuracy'])"
   ]
  },
  {
   "cell_type": "code",
   "execution_count": 4,
   "metadata": {},
   "outputs": [],
   "source": [
    "from keras.preprocessing.image import ImageDataGenerator\n",
    "train_gen=ImageDataGenerator(rescale=1/255,horizontal_flip=True)\n",
    "test_gen=ImageDataGenerator(rescale=1/255)\n"
   ]
  },
  {
   "cell_type": "code",
   "execution_count": 6,
   "metadata": {},
   "outputs": [
    {
     "name": "stdout",
     "output_type": "stream",
     "text": [
      "Found 124 images belonging to 2 classes.\n",
      "Found 18 images belonging to 2 classes.\n",
      "Found 12 images belonging to 2 classes.\n"
     ]
    }
   ],
   "source": [
    "train_set=train_gen.flow_from_directory('training',\n",
    "                                        target_size=(256,256),batch_size=2,class_mode='binary', \n",
    "                                        shuffle=True,color_mode='rgb',seed=108)\n",
    "validation_set=test_gen.flow_from_directory('validation',target_size=(256,256),\n",
    "                                            batch_size=2,class_mode='binary', shuffle=True,\n",
    "                                            color_mode='rgb',seed=108)\n",
    "test_set=test_gen.flow_from_directory('test',target_size=(256,256),\n",
    "                                      batch_size=1,class_mode='binary',shuffle=False,\n",
    "                                      color_mode='rgb',seed=108)"
   ]
  },
  {
   "cell_type": "code",
   "execution_count": null,
   "metadata": {},
   "outputs": [
    {
     "name": "stdout",
     "output_type": "stream",
     "text": [
      "Epoch 1/4\n",
      "124/124 [==============================] - 42s 341ms/step - loss: 4.9884 - accuracy: 0.6815 - val_loss: 0.3849 - val_accuracy: 0.5000\n",
      "Epoch 2/4\n",
      " 60/124 [=============>................] - ETA: 20s - loss: 0.9226 - accuracy: 0.7833"
     ]
    }
   ],
   "source": [
    "# from keras.callbacks import ModelCheckpoint\n",
    "# filepath = \"checkpoint_final.h5\"\n",
    "# checkpoint = ModelCheckpoint(filepath, monitor='val_accuracy', verbose = 1,\n",
    "#                              save_best_only = True, mode = 'max')\n",
    "\n",
    "\n",
    "\n",
    "# callbacks_list = [checkpoint]\n",
    "\n",
    "history = model.fit_generator(train_set, steps_per_epoch = len(train_set.filenames),\n",
    "                    validation_data = validation_set,\n",
    "                    validation_steps = len(validation_set.filenames),\n",
    "                    epochs = 4,\n",
    "                    verbose = 1,\n",
    "                    )\n",
    "\n"
   ]
  },
  {
   "cell_type": "code",
   "execution_count": 145,
   "metadata": {},
   "outputs": [
    {
     "name": "stdout",
     "output_type": "stream",
     "text": [
      "Saved model to disk\n"
     ]
    }
   ],
   "source": [
    "# save model and architecture to single file\n",
    "model.save(\"models/model6.model\")\n",
    "print(\"Saved model to disk\")"
   ]
  },
  {
   "cell_type": "code",
   "execution_count": 146,
   "metadata": {},
   "outputs": [],
   "source": [
    "model=keras.models.load_model(\"models/model6.model\")"
   ]
  },
  {
   "cell_type": "code",
   "execution_count": 148,
   "metadata": {},
   "outputs": [
    {
     "name": "stdout",
     "output_type": "stream",
     "text": [
      "14/14 [==============================] - 3s 216ms/step\n"
     ]
    }
   ],
   "source": [
    "predictions = model.predict_generator(test_set, steps=len(test_set), verbose=1)"
   ]
  },
  {
   "cell_type": "code",
   "execution_count": 149,
   "metadata": {},
   "outputs": [
    {
     "data": {
      "text/plain": [
       "array([[4.0003066e-05],\n",
       "       [9.9874997e-01],\n",
       "       [2.7375744e-04],\n",
       "       [7.4726902e-03],\n",
       "       [5.8101541e-01],\n",
       "       [9.9918383e-01],\n",
       "       [9.9992263e-01],\n",
       "       [8.4346205e-01],\n",
       "       [9.8711038e-01],\n",
       "       [9.8165876e-01],\n",
       "       [9.7315413e-01],\n",
       "       [7.4479479e-01],\n",
       "       [3.0311660e-03],\n",
       "       [8.4901792e-01]], dtype=float32)"
      ]
     },
     "execution_count": 149,
     "metadata": {},
     "output_type": "execute_result"
    }
   ],
   "source": [
    "predictions"
   ]
  },
  {
   "cell_type": "code",
   "execution_count": 150,
   "metadata": {},
   "outputs": [
    {
     "data": {
      "text/plain": [
       "array([[0],\n",
       "       [1],\n",
       "       [0],\n",
       "       [0],\n",
       "       [1],\n",
       "       [1],\n",
       "       [1],\n",
       "       [1],\n",
       "       [1],\n",
       "       [1],\n",
       "       [1],\n",
       "       [1],\n",
       "       [0],\n",
       "       [1]])"
      ]
     },
     "execution_count": 150,
     "metadata": {},
     "output_type": "execute_result"
    }
   ],
   "source": [
    "y_pred_binary=(predictions>0.5).astype(np.int)\n",
    "y_pred_binary"
   ]
  },
  {
   "cell_type": "code",
   "execution_count": 151,
   "metadata": {},
   "outputs": [
    {
     "data": {
      "text/plain": [
       "array([0, 0, 0, 0, 0, 0, 0, 0, 1, 1, 1, 1, 1, 1], dtype=int32)"
      ]
     },
     "execution_count": 151,
     "metadata": {},
     "output_type": "execute_result"
    }
   ],
   "source": [
    "y_true=test_set.classes\n",
    "y_true"
   ]
  },
  {
   "cell_type": "code",
   "execution_count": 152,
   "metadata": {},
   "outputs": [
    {
     "data": {
      "image/png": "[encoded data removed]",
      "text/plain": [
       "<Figure size 432x288 with 2 Axes>"
      ]
     },
     "metadata": {
      "needs_background": "light"
     },
     "output_type": "display_data"
    }
   ],
   "source": [
    "from sklearn.metrics import confusion_matrix\n",
    "cm=confusion_matrix(y_true, y_pred_binary)\n",
    "from mlxtend.plotting import plot_confusion_matrix\n",
    "fig, ax=plot_confusion_matrix(conf_mat=cm,show_absolute=True,show_normed=True,colorbar=True,cmap='Blues')\n",
    "plt.show()"
   ]
  },
  {
   "cell_type": "code",
   "execution_count": null,
   "metadata": {},
   "outputs": [],
   "source": []
  }
 ],
 "metadata": {
  "kernelspec": {
   "display_name": "Python 3",
   "language": "python",
   "name": "python3"
  },
  "language_info": {
   "codemirror_mode": {
    "name": "ipython",
    "version": 3
   },
   "file_extension": ".py",
   "mimetype": "text/x-python",
   "name": "python",
   "nbconvert_exporter": "python",
   "pygments_lexer": "ipython3",
   "version": "3.7.4"
  }
 },
 "nbformat": 4,
 "nbformat_minor": 2
}
