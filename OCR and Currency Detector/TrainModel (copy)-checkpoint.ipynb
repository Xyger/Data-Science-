{
 "cells": [
  {
   "cell_type": "code",
   "execution_count": 2,
   "metadata": {},
   "outputs": [
    {
     "name": "stderr",
     "output_type": "stream",
     "text": [
      "Using TensorFlow backend.\n"
     ]
    }
   ],
   "source": [
    "from keras.models import Sequential\n",
    "import keras\n",
    "from keras.layers import MaxPooling2D,Conv2D,Flatten,Dense, Dropout\n",
    "import numpy as np\n",
    "import matplotlib.pyplot as plt"
   ]
  },
  {
   "cell_type": "code",
   "execution_count": 3,
   "metadata": {},
   "outputs": [],
   "source": [
    "# model=Sequential()\n",
    "# model.add(Conv2D(32,kernel_size=(3,3),input_shape=(256,256,3),activation='relu'))\n",
    "\n",
    "# model.add(MaxPooling2D(pool_size=(2,2)))\n",
    "# model.add(Flatten())\n",
    "# model.add(Dense(units=64,activation='relu'))\n",
    "# model.add(Dense(units=1,activation='sigmoid'))\n",
    "\n",
    "model = Sequential()\n",
    "model.add(Conv2D(32, (3,3), input_shape = (256, 256, 3), activation = 'relu'))\n",
    "model.add(MaxPooling2D(pool_size = (2,2)))\n",
    "\n",
    "model.add(Conv2D(32, (3,3), activation = 'relu'))\n",
    "model.add(MaxPooling2D(pool_size = (2,2)))\n",
    "\n",
    "model.add(Conv2D(64, (3,3), activation = 'relu'))\n",
    "model.add(MaxPooling2D(pool_size=(2,2)))\n",
    "\n",
    "\n",
    "model.add(Flatten())\n",
    "model.add(Dense(64,activation = 'relu'))\n",
    "model.add(Dropout(0.25))\n",
    "model.add(Dense(1, activation = 'sigmoid'))\n",
    "\n",
    "model.compile(loss = 'binary_crossentropy',\n",
    "              optimizer = 'rmsprop',\n",
    "              metrics = ['accuracy'])\n"
   ]
  },
  {
   "cell_type": "code",
   "execution_count": 4,
   "metadata": {},
   "outputs": [],
   "source": [
    "#model.compile(optimizer='adam',loss='binary_crossentropy',metrics=['accuracy'])"
   ]
  },
  {
   "cell_type": "code",
   "execution_count": 8,
   "metadata": {},
   "outputs": [],
   "source": [
    "from keras.preprocessing.image import ImageDataGenerator\n",
    "train_gen=ImageDataGenerator(rescale=1/255, shear_range=0.3,zoom_range=0.2,horizontal_flip=True, vertical_flip=True)\n",
    "test_gen=ImageDataGenerator(rescale=1/255)\n"
   ]
  },
  {
   "cell_type": "code",
   "execution_count": 9,
   "metadata": {},
   "outputs": [
    {
     "name": "stdout",
     "output_type": "stream",
     "text": [
      "Found 282 images belonging to 2 classes.\n",
      "Found 102 images belonging to 2 classes.\n",
      "Found 23 images belonging to 2 classes.\n"
     ]
    }
   ],
   "source": [
    "train_set=train_gen.flow_from_directory('training',\n",
    "                                        target_size=(256,256),batch_size=2,class_mode='binary', \n",
    "                                        shuffle=True,color_mode='rgb',seed=108,)\n",
    "validation_set=test_gen.flow_from_directory('validation',target_size=(256,256),\n",
    "                                            batch_size=2,class_mode='binary', shuffle=True,\n",
    "                                            color_mode='rgb',seed=108)\n",
    "test_set=test_gen.flow_from_directory('test',target_size=(256,256),\n",
    "                                      batch_size=1,class_mode='binary',shuffle=False,\n",
    "                                      color_mode='rgb',seed=108)"
   ]
  },
  {
   "cell_type": "code",
   "execution_count": 10,
   "metadata": {},
   "outputs": [
    {
     "name": "stdout",
     "output_type": "stream",
     "text": [
      "Epoch 1/10\n",
      "282/282 [==============================] - 75s 266ms/step - loss: 0.8392 - accuracy: 0.6348 - val_loss: 0.6570 - val_accuracy: 0.6275\n",
      "Epoch 2/10\n",
      "282/282 [==============================] - 75s 266ms/step - loss: 0.5895 - accuracy: 0.7660 - val_loss: 0.6937 - val_accuracy: 0.7647\n",
      "Epoch 3/10\n",
      "282/282 [==============================] - 78s 277ms/step - loss: 0.5091 - accuracy: 0.8085 - val_loss: 0.4647 - val_accuracy: 0.7647\n",
      "Epoch 4/10\n",
      "282/282 [==============================] - 78s 277ms/step - loss: 0.3296 - accuracy: 0.8830 - val_loss: 0.3181 - val_accuracy: 0.9020\n",
      "Epoch 5/10\n",
      "282/282 [==============================] - 80s 285ms/step - loss: 0.4029 - accuracy: 0.9060 - val_loss: 0.0915 - val_accuracy: 0.9216\n",
      "Epoch 6/10\n",
      "282/282 [==============================] - 76s 268ms/step - loss: 0.3449 - accuracy: 0.9220 - val_loss: 0.0236 - val_accuracy: 0.9020\n",
      "Epoch 7/10\n",
      "282/282 [==============================] - 76s 270ms/step - loss: 0.3019 - accuracy: 0.9202 - val_loss: 7.4216e-05 - val_accuracy: 0.9118\n",
      "Epoch 8/10\n",
      "282/282 [==============================] - 77s 272ms/step - loss: 0.3530 - accuracy: 0.9468 - val_loss: 13.2130 - val_accuracy: 0.6176\n",
      "Epoch 9/10\n",
      "282/282 [==============================] - 76s 270ms/step - loss: 0.2089 - accuracy: 0.9433 - val_loss: 0.8947 - val_accuracy: 0.9412\n",
      "Epoch 10/10\n",
      "282/282 [==============================] - 74s 262ms/step - loss: 0.1920 - accuracy: 0.9628 - val_loss: 2.1332e-09 - val_accuracy: 0.9510\n"
     ]
    }
   ],
   "source": [
    "# from keras.callbacks import ModelCheckpoint\n",
    "# filepath = \"checkpoint_final.h5\"\n",
    "# checkpoint = ModelCheckpoint(filepath, monitor='val_accuracy', verbose = 1,\n",
    "#                              save_best_only = True, mode = 'max')\n",
    "\n",
    "\n",
    "\n",
    "# callbacks_list = [checkpoint]\n",
    "\n",
    "history = model.fit_generator(train_set, steps_per_epoch = len(train_set.filenames),\n",
    "                    validation_data = validation_set,\n",
    "                    validation_steps = len(validation_set.filenames),\n",
    "                    epochs = 10,\n",
    "                    verbose = 1,\n",
    "                    )\n",
    "\n"
   ]
  },
  {
   "cell_type": "code",
   "execution_count": 12,
   "metadata": {},
   "outputs": [
    {
     "name": "stdout",
     "output_type": "stream",
     "text": [
      "Saved model to disk\n"
     ]
    }
   ],
   "source": [
    "# save model and architecture to single file\n",
    "model.save(\"models/model5.model\")\n",
    "print(\"Saved model to disk\")"
   ]
  },
  {
   "cell_type": "code",
   "execution_count": 13,
   "metadata": {},
   "outputs": [],
   "source": [
    "model=keras.models.load_model(\"models/model5.model\")"
   ]
  },
  {
   "cell_type": "code",
   "execution_count": 14,
   "metadata": {},
   "outputs": [
    {
     "name": "stdout",
     "output_type": "stream",
     "text": [
      "23/23 [==============================] - 1s 44ms/step\n"
     ]
    }
   ],
   "source": [
    "predictions = model.predict_generator(test_set, steps=len(test_set), verbose=1)"
   ]
  },
  {
   "cell_type": "code",
   "execution_count": 15,
   "metadata": {},
   "outputs": [
    {
     "data": {
      "text/plain": [
       "array([[3.9830513e-05],\n",
       "       [5.3816061e-03],\n",
       "       [4.6975838e-08],\n",
       "       [1.8332343e-03],\n",
       "       [0.0000000e+00],\n",
       "       [0.0000000e+00],\n",
       "       [0.0000000e+00],\n",
       "       [0.0000000e+00],\n",
       "       [2.1760438e-03],\n",
       "       [0.0000000e+00],\n",
       "       [1.0000000e+00],\n",
       "       [1.0000000e+00],\n",
       "       [1.0000000e+00],\n",
       "       [9.9999964e-01],\n",
       "       [1.0000000e+00],\n",
       "       [1.0000000e+00],\n",
       "       [1.0000000e+00],\n",
       "       [1.0000000e+00],\n",
       "       [1.0000000e+00],\n",
       "       [1.0000000e+00],\n",
       "       [1.0000000e+00],\n",
       "       [1.0000000e+00],\n",
       "       [1.0000000e+00]], dtype=float32)"
      ]
     },
     "execution_count": 15,
     "metadata": {},
     "output_type": "execute_result"
    }
   ],
   "source": [
    "predictions"
   ]
  },
  {
   "cell_type": "code",
   "execution_count": 16,
   "metadata": {},
   "outputs": [
    {
     "data": {
      "text/plain": [
       "array([[0],\n",
       "       [0],\n",
       "       [0],\n",
       "       [0],\n",
       "       [0],\n",
       "       [0],\n",
       "       [0],\n",
       "       [0],\n",
       "       [0],\n",
       "       [0],\n",
       "       [1],\n",
       "       [1],\n",
       "       [1],\n",
       "       [1],\n",
       "       [1],\n",
       "       [1],\n",
       "       [1],\n",
       "       [1],\n",
       "       [1],\n",
       "       [1],\n",
       "       [1],\n",
       "       [1],\n",
       "       [1]])"
      ]
     },
     "execution_count": 16,
     "metadata": {},
     "output_type": "execute_result"
    }
   ],
   "source": [
    "y_pred_binary=(predictions>0.5).astype(np.int)\n",
    "y_pred_binary"
   ]
  },
  {
   "cell_type": "code",
   "execution_count": 17,
   "metadata": {},
   "outputs": [
    {
     "data": {
      "text/plain": [
       "array([0, 0, 0, 0, 0, 0, 0, 0, 0, 0, 1, 1, 1, 1, 1, 1, 1, 1, 1, 1, 1, 1,\n",
       "       1], dtype=int32)"
      ]
     },
     "execution_count": 17,
     "metadata": {},
     "output_type": "execute_result"
    }
   ],
   "source": [
    "y_true=test_set.classes\n",
    "y_true"
   ]
  },
  {
   "cell_type": "code",
   "execution_count": 18,
   "metadata": {},
   "outputs": [
    {
     "data": {
      "image/png": "[encoded data removed]",
      "text/plain": [
       "<Figure size 432x288 with 2 Axes>"
      ]
     },
     "metadata": {
      "needs_background": "light"
     },
     "output_type": "display_data"
    }
   ],
   "source": [
    "from sklearn.metrics import confusion_matrix\n",
    "cm=confusion_matrix(y_true, y_pred_binary)\n",
    "from mlxtend.plotting import plot_confusion_matrix\n",
    "fig, ax=plot_confusion_matrix(conf_mat=cm,show_absolute=True,show_normed=True,colorbar=True,cmap='Blues')\n",
    "plt.show()"
   ]
  },
  {
   "cell_type": "code",
   "execution_count": null,
   "metadata": {},
   "outputs": [],
   "source": []
  }
 ],
 "metadata": {
  "kernelspec": {
   "display_name": "Python 3",
   "language": "python",
   "name": "python3"
  },
  "language_info": {
   "codemirror_mode": {
    "name": "ipython",
    "version": 3
   },
   "file_extension": ".py",
   "mimetype": "text/x-python",
   "name": "python",
   "nbconvert_exporter": "python",
   "pygments_lexer": "ipython3",
   "version": "3.7.4"
  }
 },
 "nbformat": 4,
 "nbformat_minor": 2
}
