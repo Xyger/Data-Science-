{
 "cells": [
  {
   "cell_type": "markdown",
   "metadata": {},
   "source": [
    "<font size=\"+2\" color=\"brown\"><i><b><center>\"With hard work, you can get fire out of a stone.\"</center></b></i></font>"
   ]
  },
  {
   "cell_type": "markdown",
   "metadata": {},
   "source": [
    "<font size=\"+3\" color=purple ><b> <center><u>Text Helper Functions</u></center></b></font>"
   ]
  },
  {
   "cell_type": "markdown",
   "metadata": {},
   "source": [
    "**Version 4**  :  First Run <br>\n",
    "**Version 6**  :  Added 9 new regex function required for text processing.<br>\n",
    "**Version 7**  :  Added few functions and modified scripts.<br>\n",
    "**Version 8**  :  Updated kernel with few more functions and modified scripts.<br>\n",
    "**Version 9**  :  Modified script <br>\n",
    "**Version 10** :  Added description and modified script in 4.13 <br>\n",
    "**Version 11** :  Added few more helpers<br>\n",
    "**Version 12** :  Few modifications and added few more helpers<br>\n",
    "**Version 13** :  Added two more functions.<br>\n",
    "**Version 14** :  Small modification<br>\n",
    "**Version 15** :  Added more function<br>\n",
    "**Version 16** :  Added tag function<br>\n",
    "**Version 17** :  (Current) Fixed bug from V16<br>\n",
    "**Version 18** :  *Loading...*"
   ]
  },
  {
   "cell_type": "markdown",
   "metadata": {},
   "source": [
    "<a id='top'></a>\n",
    "<div class=\"list-group\" id=\"list-tab\" role=\"tablist\">\n",
    "<h3 class=\"list-group-item list-group-item-action active\" data-toggle=\"list\"  role=\"tab\" aria-controls=\"home\">Table of content</h3>\n",
    "\n",
    "* [1. Objective](#1)   \n",
    "* [2. Data](#2)\n",
    "* [3. Basic Data Explorers](#3)\n",
    "    - [3.1 Missing values](#3.1)\n",
    "    - [3.2 Count values](#3.2)\n",
    "    - [3.3 Unique values](#3.3)\n",
    "    - [3.4 Duplicate values](#3.4)\n",
    "    - [3.5 Stat](#3.5)\n",
    "* [4. Regex Helpers](#4)\n",
    "    - [4.1 URL](#4.1)\n",
    "    - [4.2 Emoticons](#4.2)\n",
    "    - [4.3 Email](#4.3)\n",
    "    - [4.4 Hash](#4.4)\n",
    "    - [4.5 Mention](#4.5)\n",
    "    - [4.6 Number](#4.6)\n",
    "    - [4.7 Phone Number](#4.7)\n",
    "    - [4.8 Year](#4.8)\n",
    "    - [4.9 Non Alphanumeric](#4.9)\n",
    "    - [4.10 Punctuations](#4.10)\n",
    "    - [4.11 Stopwords](#4.11)\n",
    "    - [4.12 N-grams](#4.12)\n",
    "    - [4.13 Repetitive Character](#4.13)\n",
    "    - [4.14 Dollar](#4.14)\n",
    "    - [4.15 Number-Greater](#4.15)\n",
    "    - [4.16 Number- Lesser](#4.16)\n",
    "    - [4.17 OR](#4.17)\n",
    "    - [4.18 AND](#4.18)\n",
    "    - [4.19 Dates](#4.19)\n",
    "    - [4.20 Only Words](#4.20)\n",
    "    - [4.21 Only Numbers](#4.21)\n",
    "    - [4.22 Boundaries](#4.22)\n",
    "    - [4.23 Search](#4.23)\n",
    "    - [4.24 Pick Sentence](#4.24)\n",
    "    - [4.25 Duplicate Sentence](#4.25)\n",
    "    - [4.26 Caps Words](#4.26)\n",
    "    - [4.27 Length of Words](#4.27)\n",
    "    - [4.28 Length of Characters](#4.28)\n",
    "    - [4.29 Get ID](#4.29)\n",
    "    - [4.30 Specific String Rows](#4.30)\n",
    "    - [4.31 Hex code to Color](#4.31)\n",
    "    - [4.32 Tags](#4.32)\n",
    "    \n",
    "* [5. End Notes](#5)\n",
    "    "
   ]
  },
  {
   "cell_type": "markdown",
   "metadata": {},
   "source": [
    "<font size=\"+3\" color=\"blue\"><b>1. Objective</b></font><br><a id=\"1\"></a>"
   ]
  },
  {
   "cell_type": "markdown",
   "metadata": {},
   "source": [
    "The aim of this kernel is to provide helper function for basic text processing.This functions can aid you to understand the data much better and perform EDA.\n",
    "My major focus will be on apply regex on text but still i have mentioned few basic starter codes on the 3rd part of kernel.Rest all sections will deal with text preprocessing.The whole kernel can be useful for everyone especially **beginners**.\n",
    "\n",
    "<font size=\"+1\"><i>Readers,I am making you lazy to code but at same time I am helping you out.Do utilize this kernel for any of your text oriented competitions.</i></font><br><br>\n",
    "    \n",
    "<font size=\"+1\" color=chocolate ><b>Please appreciate me through your Upvote.</b></font>"
   ]
  },
  {
   "cell_type": "markdown",
   "metadata": {},
   "source": [
    "<font size=\"+3\" color=\"blue\"><b>2. Data</b></font><br><a id=\"2\"></a>\n",
    "\n",
    "I will be using data from [Twitter Sentiment Analysis](https://www.kaggle.com/c/tweet-sentiment-extraction/data) competiton"
   ]
  },
  {
   "cell_type": "code",
   "execution_count": 1,
   "metadata": {
    "_cell_guid": "b1076dfc-b9ad-4769-8c92-a6c4dae69d19",
    "_uuid": "8f2839f25d086af736a60e9eeb907d3b93b6e0e5"
   },
   "outputs": [
    {
     "data": {
      "text/html": [
       "<div>\n",
       "<style scoped>\n",
       "    .dataframe tbody tr th:only-of-type {\n",
       "        vertical-align: middle;\n",
       "    }\n",
       "\n",
       "    .dataframe tbody tr th {\n",
       "        vertical-align: top;\n",
       "    }\n",
       "\n",
       "    .dataframe thead th {\n",
       "        text-align: right;\n",
       "    }\n",
       "</style>\n",
       "<table border=\"1\" class=\"dataframe\">\n",
       "  <thead>\n",
       "    <tr style=\"text-align: right;\">\n",
       "      <th></th>\n",
       "      <th>textID</th>\n",
       "      <th>text</th>\n",
       "      <th>selected_text</th>\n",
       "      <th>sentiment</th>\n",
       "    </tr>\n",
       "  </thead>\n",
       "  <tbody>\n",
       "    <tr>\n",
       "      <th>0</th>\n",
       "      <td>cb774db0d1</td>\n",
       "      <td>I`d have responded, if I were going</td>\n",
       "      <td>I`d have responded, if I were going</td>\n",
       "      <td>neutral</td>\n",
       "    </tr>\n",
       "    <tr>\n",
       "      <th>1</th>\n",
       "      <td>549e992a42</td>\n",
       "      <td>Sooo SAD I will miss you here in San Diego!!!</td>\n",
       "      <td>Sooo SAD</td>\n",
       "      <td>negative</td>\n",
       "    </tr>\n",
       "    <tr>\n",
       "      <th>2</th>\n",
       "      <td>088c60f138</td>\n",
       "      <td>my boss is bullying me...</td>\n",
       "      <td>bullying me</td>\n",
       "      <td>negative</td>\n",
       "    </tr>\n",
       "    <tr>\n",
       "      <th>3</th>\n",
       "      <td>9642c003ef</td>\n",
       "      <td>what interview! leave me alone</td>\n",
       "      <td>leave me alone</td>\n",
       "      <td>negative</td>\n",
       "    </tr>\n",
       "    <tr>\n",
       "      <th>4</th>\n",
       "      <td>358bd9e861</td>\n",
       "      <td>Sons of ****, why couldn`t they put them on t...</td>\n",
       "      <td>Sons of ****,</td>\n",
       "      <td>negative</td>\n",
       "    </tr>\n",
       "  </tbody>\n",
       "</table>\n",
       "</div>"
      ],
      "text/plain": [
       "       textID                                               text  \\\n",
       "0  cb774db0d1                I`d have responded, if I were going   \n",
       "1  549e992a42      Sooo SAD I will miss you here in San Diego!!!   \n",
       "2  088c60f138                          my boss is bullying me...   \n",
       "3  9642c003ef                     what interview! leave me alone   \n",
       "4  358bd9e861   Sons of ****, why couldn`t they put them on t...   \n",
       "\n",
       "                         selected_text sentiment  \n",
       "0  I`d have responded, if I were going   neutral  \n",
       "1                             Sooo SAD  negative  \n",
       "2                          bullying me  negative  \n",
       "3                       leave me alone  negative  \n",
       "4                        Sons of ****,  negative  "
      ]
     },
     "execution_count": 1,
     "metadata": {},
     "output_type": "execute_result"
    }
   ],
   "source": [
    "import numpy as np # linear algebra\n",
    "import pandas as pd # data processing, CSV file I/O (e.g. pd.read_csv)\n",
    "import os\n",
    "import re\n",
    "import emoji\n",
    "\n",
    "#Count vectorizer for N grams\n",
    "from sklearn.feature_extraction.text import CountVectorizer,TfidfVectorizer\n",
    "\n",
    "# Nltk for tekenize and stopwords\n",
    "from nltk.corpus import stopwords \n",
    "from nltk.tokenize import word_tokenize \n",
    "\n",
    "#Loading data\n",
    "df=pd.read_csv('../input/tweet-sentiment-extraction/train.csv')\n",
    "df.head()"
   ]
  },
  {
   "cell_type": "markdown",
   "metadata": {},
   "source": [
    "<font size=\"+3\" color=\"blue\"><b>3. Basic Data Explorers</b></font><br> <a id=\"3\"></a>"
   ]
  },
  {
   "cell_type": "markdown",
   "metadata": {},
   "source": [
    "<font size=\"+2\" color=\"indigo\"><b>3.1 Missing values</b></font><br><a id=\"3.1\"></a>"
   ]
  },
  {
   "cell_type": "code",
   "execution_count": 2,
   "metadata": {},
   "outputs": [],
   "source": [
    "def missing_value_of_data(data):\n",
    "    total=data.isnull().sum().sort_values(ascending=False)\n",
    "    percentage=round(total/data.shape[0]*100,2)\n",
    "    return pd.concat([total,percentage],axis=1,keys=['Total','Percentage'])\n"
   ]
  },
  {
   "cell_type": "code",
   "execution_count": 3,
   "metadata": {},
   "outputs": [
    {
     "data": {
      "text/html": [
       "<div>\n",
       "<style scoped>\n",
       "    .dataframe tbody tr th:only-of-type {\n",
       "        vertical-align: middle;\n",
       "    }\n",
       "\n",
       "    .dataframe tbody tr th {\n",
       "        vertical-align: top;\n",
       "    }\n",
       "\n",
       "    .dataframe thead th {\n",
       "        text-align: right;\n",
       "    }\n",
       "</style>\n",
       "<table border=\"1\" class=\"dataframe\">\n",
       "  <thead>\n",
       "    <tr style=\"text-align: right;\">\n",
       "      <th></th>\n",
       "      <th>Total</th>\n",
       "      <th>Percentage</th>\n",
       "    </tr>\n",
       "  </thead>\n",
       "  <tbody>\n",
       "    <tr>\n",
       "      <th>selected_text</th>\n",
       "      <td>1</td>\n",
       "      <td>0.0</td>\n",
       "    </tr>\n",
       "    <tr>\n",
       "      <th>text</th>\n",
       "      <td>1</td>\n",
       "      <td>0.0</td>\n",
       "    </tr>\n",
       "    <tr>\n",
       "      <th>sentiment</th>\n",
       "      <td>0</td>\n",
       "      <td>0.0</td>\n",
       "    </tr>\n",
       "    <tr>\n",
       "      <th>textID</th>\n",
       "      <td>0</td>\n",
       "      <td>0.0</td>\n",
       "    </tr>\n",
       "  </tbody>\n",
       "</table>\n",
       "</div>"
      ],
      "text/plain": [
       "               Total  Percentage\n",
       "selected_text      1         0.0\n",
       "text               1         0.0\n",
       "sentiment          0         0.0\n",
       "textID             0         0.0"
      ]
     },
     "execution_count": 3,
     "metadata": {},
     "output_type": "execute_result"
    }
   ],
   "source": [
    "missing_value_of_data(df)\n",
    "#  Reason for 0 percentage value = Round of 1 divided by 27481 will be 0"
   ]
  },
  {
   "cell_type": "markdown",
   "metadata": {},
   "source": [
    "We will drop NA values"
   ]
  },
  {
   "cell_type": "code",
   "execution_count": 4,
   "metadata": {},
   "outputs": [],
   "source": [
    "df=df.dropna()"
   ]
  },
  {
   "cell_type": "markdown",
   "metadata": {},
   "source": [
    "<font size=\"+2\" color=\"indigo\"><b>3.2 Count Values</b></font><br><a id=\"3.2\"></a>"
   ]
  },
  {
   "cell_type": "code",
   "execution_count": 5,
   "metadata": {},
   "outputs": [],
   "source": [
    "def count_values_in_column(data,feature):\n",
    "    total=data.loc[:,feature].value_counts(dropna=False)\n",
    "    percentage=round(data.loc[:,feature].value_counts(dropna=False,normalize=True)*100,2)\n",
    "    return pd.concat([total,percentage],axis=1,keys=['Total','Percentage'])"
   ]
  },
  {
   "cell_type": "code",
   "execution_count": 6,
   "metadata": {},
   "outputs": [
    {
     "data": {
      "text/html": [
       "<div>\n",
       "<style scoped>\n",
       "    .dataframe tbody tr th:only-of-type {\n",
       "        vertical-align: middle;\n",
       "    }\n",
       "\n",
       "    .dataframe tbody tr th {\n",
       "        vertical-align: top;\n",
       "    }\n",
       "\n",
       "    .dataframe thead th {\n",
       "        text-align: right;\n",
       "    }\n",
       "</style>\n",
       "<table border=\"1\" class=\"dataframe\">\n",
       "  <thead>\n",
       "    <tr style=\"text-align: right;\">\n",
       "      <th></th>\n",
       "      <th>Total</th>\n",
       "      <th>Percentage</th>\n",
       "    </tr>\n",
       "  </thead>\n",
       "  <tbody>\n",
       "    <tr>\n",
       "      <th>neutral</th>\n",
       "      <td>11117</td>\n",
       "      <td>40.45</td>\n",
       "    </tr>\n",
       "    <tr>\n",
       "      <th>positive</th>\n",
       "      <td>8582</td>\n",
       "      <td>31.23</td>\n",
       "    </tr>\n",
       "    <tr>\n",
       "      <th>negative</th>\n",
       "      <td>7781</td>\n",
       "      <td>28.32</td>\n",
       "    </tr>\n",
       "  </tbody>\n",
       "</table>\n",
       "</div>"
      ],
      "text/plain": [
       "          Total  Percentage\n",
       "neutral   11117       40.45\n",
       "positive   8582       31.23\n",
       "negative   7781       28.32"
      ]
     },
     "execution_count": 6,
     "metadata": {},
     "output_type": "execute_result"
    }
   ],
   "source": [
    "count_values_in_column(df,'sentiment')"
   ]
  },
  {
   "cell_type": "markdown",
   "metadata": {},
   "source": [
    "<font size=\"+2\" color=\"indigo\"><b>3.3 Unique Values</b></font><br><a id=\"3.3\"></a>"
   ]
  },
  {
   "cell_type": "code",
   "execution_count": 7,
   "metadata": {},
   "outputs": [],
   "source": [
    "def unique_values_in_column(data,feature):\n",
    "    unique_val=pd.Series(data.loc[:,feature].unique())\n",
    "    return pd.concat([unique_val],axis=1,keys=['Unique Values'])\n"
   ]
  },
  {
   "cell_type": "code",
   "execution_count": 8,
   "metadata": {},
   "outputs": [
    {
     "data": {
      "text/html": [
       "<div>\n",
       "<style scoped>\n",
       "    .dataframe tbody tr th:only-of-type {\n",
       "        vertical-align: middle;\n",
       "    }\n",
       "\n",
       "    .dataframe tbody tr th {\n",
       "        vertical-align: top;\n",
       "    }\n",
       "\n",
       "    .dataframe thead th {\n",
       "        text-align: right;\n",
       "    }\n",
       "</style>\n",
       "<table border=\"1\" class=\"dataframe\">\n",
       "  <thead>\n",
       "    <tr style=\"text-align: right;\">\n",
       "      <th></th>\n",
       "      <th>Unique Values</th>\n",
       "    </tr>\n",
       "  </thead>\n",
       "  <tbody>\n",
       "    <tr>\n",
       "      <th>0</th>\n",
       "      <td>neutral</td>\n",
       "    </tr>\n",
       "    <tr>\n",
       "      <th>1</th>\n",
       "      <td>negative</td>\n",
       "    </tr>\n",
       "    <tr>\n",
       "      <th>2</th>\n",
       "      <td>positive</td>\n",
       "    </tr>\n",
       "  </tbody>\n",
       "</table>\n",
       "</div>"
      ],
      "text/plain": [
       "  Unique Values\n",
       "0       neutral\n",
       "1      negative\n",
       "2      positive"
      ]
     },
     "execution_count": 8,
     "metadata": {},
     "output_type": "execute_result"
    }
   ],
   "source": [
    "unique_values_in_column(df,'sentiment')"
   ]
  },
  {
   "cell_type": "markdown",
   "metadata": {},
   "source": [
    "<font size=\"+2\" color=\"indigo\"><b>3.4 Duplicate Values</b></font><br><a id=\"3.4\"></a>"
   ]
  },
  {
   "cell_type": "code",
   "execution_count": 9,
   "metadata": {},
   "outputs": [],
   "source": [
    "    \n",
    "def duplicated_values_data(data):\n",
    "    dup=[]\n",
    "    columns=data.columns\n",
    "    for i in data.columns:\n",
    "        dup.append(sum(data[i].duplicated()))\n",
    "    return pd.concat([pd.Series(columns),pd.Series(dup)],axis=1,keys=['Columns','Duplicate count'])"
   ]
  },
  {
   "cell_type": "code",
   "execution_count": 10,
   "metadata": {},
   "outputs": [
    {
     "data": {
      "text/html": [
       "<div>\n",
       "<style scoped>\n",
       "    .dataframe tbody tr th:only-of-type {\n",
       "        vertical-align: middle;\n",
       "    }\n",
       "\n",
       "    .dataframe tbody tr th {\n",
       "        vertical-align: top;\n",
       "    }\n",
       "\n",
       "    .dataframe thead th {\n",
       "        text-align: right;\n",
       "    }\n",
       "</style>\n",
       "<table border=\"1\" class=\"dataframe\">\n",
       "  <thead>\n",
       "    <tr style=\"text-align: right;\">\n",
       "      <th></th>\n",
       "      <th>Columns</th>\n",
       "      <th>Duplicate count</th>\n",
       "    </tr>\n",
       "  </thead>\n",
       "  <tbody>\n",
       "    <tr>\n",
       "      <th>0</th>\n",
       "      <td>textID</td>\n",
       "      <td>0</td>\n",
       "    </tr>\n",
       "    <tr>\n",
       "      <th>1</th>\n",
       "      <td>text</td>\n",
       "      <td>0</td>\n",
       "    </tr>\n",
       "    <tr>\n",
       "      <th>2</th>\n",
       "      <td>selected_text</td>\n",
       "      <td>5017</td>\n",
       "    </tr>\n",
       "    <tr>\n",
       "      <th>3</th>\n",
       "      <td>sentiment</td>\n",
       "      <td>27477</td>\n",
       "    </tr>\n",
       "  </tbody>\n",
       "</table>\n",
       "</div>"
      ],
      "text/plain": [
       "         Columns  Duplicate count\n",
       "0         textID                0\n",
       "1           text                0\n",
       "2  selected_text             5017\n",
       "3      sentiment            27477"
      ]
     },
     "execution_count": 10,
     "metadata": {},
     "output_type": "execute_result"
    }
   ],
   "source": [
    "duplicated_values_data(df)"
   ]
  },
  {
   "cell_type": "markdown",
   "metadata": {},
   "source": [
    "<font size=\"+2\" color=\"indigo\"><b>3.5 Stat</b></font><br><a id=\"3.5\"></a>"
   ]
  },
  {
   "cell_type": "code",
   "execution_count": 11,
   "metadata": {},
   "outputs": [
    {
     "data": {
      "text/html": [
       "<div>\n",
       "<style scoped>\n",
       "    .dataframe tbody tr th:only-of-type {\n",
       "        vertical-align: middle;\n",
       "    }\n",
       "\n",
       "    .dataframe tbody tr th {\n",
       "        vertical-align: top;\n",
       "    }\n",
       "\n",
       "    .dataframe thead th {\n",
       "        text-align: right;\n",
       "    }\n",
       "</style>\n",
       "<table border=\"1\" class=\"dataframe\">\n",
       "  <thead>\n",
       "    <tr style=\"text-align: right;\">\n",
       "      <th></th>\n",
       "      <th>textID</th>\n",
       "      <th>text</th>\n",
       "      <th>selected_text</th>\n",
       "      <th>sentiment</th>\n",
       "    </tr>\n",
       "  </thead>\n",
       "  <tbody>\n",
       "    <tr>\n",
       "      <th>count</th>\n",
       "      <td>27480</td>\n",
       "      <td>27480</td>\n",
       "      <td>27480</td>\n",
       "      <td>27480</td>\n",
       "    </tr>\n",
       "    <tr>\n",
       "      <th>unique</th>\n",
       "      <td>27480</td>\n",
       "      <td>27480</td>\n",
       "      <td>22463</td>\n",
       "      <td>3</td>\n",
       "    </tr>\n",
       "    <tr>\n",
       "      <th>top</th>\n",
       "      <td>754cc631d0</td>\n",
       "      <td>Nah... to be honest, I`m not a `drinker` as s...</td>\n",
       "      <td>good</td>\n",
       "      <td>neutral</td>\n",
       "    </tr>\n",
       "    <tr>\n",
       "      <th>freq</th>\n",
       "      <td>1</td>\n",
       "      <td>1</td>\n",
       "      <td>199</td>\n",
       "      <td>11117</td>\n",
       "    </tr>\n",
       "  </tbody>\n",
       "</table>\n",
       "</div>"
      ],
      "text/plain": [
       "            textID                                               text  \\\n",
       "count        27480                                              27480   \n",
       "unique       27480                                              27480   \n",
       "top     754cc631d0   Nah... to be honest, I`m not a `drinker` as s...   \n",
       "freq             1                                                  1   \n",
       "\n",
       "       selected_text sentiment  \n",
       "count          27480     27480  \n",
       "unique         22463         3  \n",
       "top             good   neutral  \n",
       "freq             199     11117  "
      ]
     },
     "execution_count": 11,
     "metadata": {},
     "output_type": "execute_result"
    }
   ],
   "source": [
    "df.describe()"
   ]
  },
  {
   "cell_type": "markdown",
   "metadata": {},
   "source": [
    "Since these kind of basic python functions are pretty much well known to all python users.We dont need much focus here.Still I will elaborate this section in upcoming versions."
   ]
  },
  {
   "cell_type": "markdown",
   "metadata": {},
   "source": [
    "<font size=\"+3\" color=\"blue\"><b>4. Regex Helpers</b></font><br> \n",
    "<a id=\"4\"></a>"
   ]
  },
  {
   "cell_type": "markdown",
   "metadata": {},
   "source": [
    "Major RE functions\n",
    "\n",
    "* **re.findall**   - Module is used to search for “all” occurrences that match a given pattern.\n",
    "* **re.sub**       - Substitute the matched RE patter with given text\n",
    "* **re.match**     - The match function is used to match the RE pattern to string with optional flags\n",
    "* **re.search**    - This method takes a regular expression pattern and a string and searches for that pattern with the string.\n",
    "\n",
    "\n",
    "We will be mostly using re.findall to detect patterns."
   ]
  },
  {
   "cell_type": "markdown",
   "metadata": {},
   "source": [
    "<font size=\"+2\" color=\"indigo\"><b>4.1 URL</b></font><br><a id=\"4.1\"></a>"
   ]
  },
  {
   "cell_type": "code",
   "execution_count": 12,
   "metadata": {
    "_cell_guid": "79c7e3d0-c299-4dcb-8224-4455121ee9b0",
    "_uuid": "d629ff2d2480ee46fbb7e2d37f6b5fab8052498a"
   },
   "outputs": [],
   "source": [
    "def find_url(string): \n",
    "    text = re.findall('http[s]?://(?:[a-zA-Z]|[0-9]|[$-_@.&+]|[!*\\(\\),]|(?:%[0-9a-fA-F][0-9a-fA-F]))+',string)\n",
    "    return \"\".join(text) # converting return value from list to string"
   ]
  },
  {
   "cell_type": "code",
   "execution_count": 13,
   "metadata": {},
   "outputs": [
    {
     "data": {
      "text/plain": [
       "'https://www.kaggle.com/'"
      ]
     },
     "execution_count": 13,
     "metadata": {},
     "output_type": "execute_result"
    }
   ],
   "source": [
    "sentence=\"I love spending time at https://www.kaggle.com/\"\n",
    "find_url(sentence)"
   ]
  },
  {
   "cell_type": "code",
   "execution_count": 14,
   "metadata": {},
   "outputs": [],
   "source": [
    "df['url']=df['text'].apply(lambda x:find_url(x))"
   ]
  },
  {
   "cell_type": "markdown",
   "metadata": {},
   "source": [
    "<font size=\"+2\" color=\"indigo\"><b>4.2 Emoticons</b></font><br><a id=\"4.2\"></a>"
   ]
  },
  {
   "cell_type": "markdown",
   "metadata": {},
   "source": [
    "### Find and convert emoji to text"
   ]
  },
  {
   "cell_type": "code",
   "execution_count": 15,
   "metadata": {},
   "outputs": [],
   "source": [
    "def find_emoji(text):\n",
    "    emo_text=emoji.demojize(text)\n",
    "    line=re.findall(r'\\:(.*?)\\:',emo_text)\n",
    "    return line"
   ]
  },
  {
   "cell_type": "code",
   "execution_count": 16,
   "metadata": {},
   "outputs": [
    {
     "data": {
      "text/plain": [
       "['soccer_ball', 'beaming_face_with_smiling_eyes']"
      ]
     },
     "execution_count": 16,
     "metadata": {},
     "output_type": "execute_result"
    }
   ],
   "source": [
    "sentence=\"I love ⚽ very much 😁\"\n",
    "find_emoji(sentence)\n",
    "\n",
    "# Emoji cheat sheet - https://www.webfx.com/tools/emoji-cheat-sheet/\n",
    "# Uniceode for all emoji : https://unicode.org/emoji/charts/full-emoji-list.html"
   ]
  },
  {
   "cell_type": "code",
   "execution_count": 17,
   "metadata": {},
   "outputs": [],
   "source": [
    "df['emoji']=df['text'].apply(lambda x: find_emoji(x))"
   ]
  },
  {
   "cell_type": "markdown",
   "metadata": {},
   "source": [
    "### Remove Emoji from text"
   ]
  },
  {
   "cell_type": "code",
   "execution_count": 18,
   "metadata": {},
   "outputs": [],
   "source": [
    "def remove_emoji(text):\n",
    "    emoji_pattern = re.compile(\"[\"\n",
    "                           u\"\\U0001F600-\\U0001F64F\"  # emoticons\n",
    "                           u\"\\U0001F300-\\U0001F5FF\"  # symbols & pictographs\n",
    "                           u\"\\U0001F680-\\U0001F6FF\"  # transport & map symbols\n",
    "                           u\"\\U0001F1E0-\\U0001F1FF\"  # flags (iOS)\n",
    "                           u\"\\U00002702-\\U000027B0\"\n",
    "                           u\"\\U000024C2-\\U0001F251\"\n",
    "                           \"]+\", flags=re.UNICODE)\n",
    "    return emoji_pattern.sub(r'', text)\n",
    "\n"
   ]
  },
  {
   "cell_type": "code",
   "execution_count": 19,
   "metadata": {},
   "outputs": [
    {
     "name": "stdout",
     "output_type": "stream",
     "text": [
      "Its all about 😀 face\n"
     ]
    },
    {
     "data": {
      "text/plain": [
       "'Its all about  face'"
      ]
     },
     "execution_count": 19,
     "metadata": {},
     "output_type": "execute_result"
    }
   ],
   "source": [
    "sentence=\"Its all about \\U0001F600 face\"\n",
    "print(sentence)\n",
    "remove_emoji(sentence)"
   ]
  },
  {
   "cell_type": "code",
   "execution_count": 20,
   "metadata": {},
   "outputs": [],
   "source": [
    "df['text']=df['text'].apply(lambda x: remove_emoji(x))"
   ]
  },
  {
   "cell_type": "markdown",
   "metadata": {},
   "source": [
    "<font size=\"+2\" color=\"indigo\"><b>4.3 Email</b></font><br><a id=\"4.3\"></a>\n",
    "\n",
    "Extract email from text"
   ]
  },
  {
   "cell_type": "code",
   "execution_count": 21,
   "metadata": {},
   "outputs": [],
   "source": [
    "def find_email(text):\n",
    "    line = re.findall(r'[\\w\\.-]+@[\\w\\.-]+',str(text))\n",
    "    return \",\".join(line)"
   ]
  },
  {
   "cell_type": "code",
   "execution_count": 22,
   "metadata": {},
   "outputs": [
    {
     "data": {
      "text/plain": [
       "'abc99@gmail.com'"
      ]
     },
     "execution_count": 22,
     "metadata": {},
     "output_type": "execute_result"
    }
   ],
   "source": [
    "sentence=\"My gmail is abc99@gmail.com\"\n",
    "find_email(sentence)"
   ]
  },
  {
   "cell_type": "code",
   "execution_count": 23,
   "metadata": {},
   "outputs": [],
   "source": [
    "df['email']=df['text'].apply(lambda x: find_email(x))"
   ]
  },
  {
   "cell_type": "markdown",
   "metadata": {},
   "source": [
    "<font size=\"+2\" color=\"indigo\"><b>4.4 Hash</b></font><br><a id=\"4.4\"></a>\n",
    "\n",
    "This value is especially to denote trends in twitter."
   ]
  },
  {
   "cell_type": "code",
   "execution_count": 24,
   "metadata": {},
   "outputs": [],
   "source": [
    "def find_hash(text):\n",
    "    line=re.findall(r'(?<=#)\\w+',text)\n",
    "    return \" \".join(line)"
   ]
  },
  {
   "cell_type": "code",
   "execution_count": 25,
   "metadata": {},
   "outputs": [
    {
     "data": {
      "text/plain": [
       "'Corona'"
      ]
     },
     "execution_count": 25,
     "metadata": {},
     "output_type": "execute_result"
    }
   ],
   "source": [
    "sentence=\"#Corona is trending now in the world\" \n",
    "find_hash(sentence)"
   ]
  },
  {
   "cell_type": "code",
   "execution_count": 26,
   "metadata": {},
   "outputs": [],
   "source": [
    "df['hash']=df['text'].apply(lambda x: find_hash(x))"
   ]
  },
  {
   "cell_type": "markdown",
   "metadata": {},
   "source": [
    "<font size=\"+2\" color=\"indigo\"><b>4.5 Mention</b></font><br><a id=\"4.5\"></a>\n",
    "\n",
    "@ - Used to mention someone in tweets"
   ]
  },
  {
   "cell_type": "code",
   "execution_count": 27,
   "metadata": {},
   "outputs": [],
   "source": [
    "def find_at(text):\n",
    "    line=re.findall(r'(?<=@)\\w+',text)\n",
    "    return \" \".join(line)"
   ]
  },
  {
   "cell_type": "code",
   "execution_count": 28,
   "metadata": {},
   "outputs": [
    {
     "data": {
      "text/plain": [
       "'David'"
      ]
     },
     "execution_count": 28,
     "metadata": {},
     "output_type": "execute_result"
    }
   ],
   "source": [
    "sentence=\"@David,can you help me out\"\n",
    "find_at(sentence)"
   ]
  },
  {
   "cell_type": "code",
   "execution_count": 29,
   "metadata": {},
   "outputs": [],
   "source": [
    "df['at_mention']=df['text'].apply(lambda x: find_at(x))"
   ]
  },
  {
   "cell_type": "markdown",
   "metadata": {},
   "source": [
    "<font size=\"+2\" color=\"indigo\"><b>4.6 Number</b></font><br><a id=\"4.6\"></a>\n",
    "\n",
    "Pick only number from sentence"
   ]
  },
  {
   "cell_type": "code",
   "execution_count": 30,
   "metadata": {},
   "outputs": [],
   "source": [
    "def find_number(text):\n",
    "    line=re.findall(r'[0-9]+',text)\n",
    "    return \" \".join(line)"
   ]
  },
  {
   "cell_type": "code",
   "execution_count": 31,
   "metadata": {},
   "outputs": [
    {
     "data": {
      "text/plain": [
       "'2833047'"
      ]
     },
     "execution_count": 31,
     "metadata": {},
     "output_type": "execute_result"
    }
   ],
   "source": [
    "sentence=\"2833047 people are affected by corona now\"\n",
    "find_number(sentence)"
   ]
  },
  {
   "cell_type": "code",
   "execution_count": 32,
   "metadata": {},
   "outputs": [],
   "source": [
    "df['number']=df['text'].apply(lambda x: find_number(x))"
   ]
  },
  {
   "cell_type": "markdown",
   "metadata": {},
   "source": [
    "<font size=\"+2\" color=\"indigo\"><b>4.7 Phone Number</b></font><br><a id=\"4.7\"></a>\n",
    "\n",
    "Indian Mobile numbers have ten digit.I will write that pattern below"
   ]
  },
  {
   "cell_type": "code",
   "execution_count": 33,
   "metadata": {},
   "outputs": [],
   "source": [
    "def find_phone_number(text):\n",
    "    line=re.findall(r\"\\b\\d{10}\\b\",text)\n",
    "    return \"\".join(line)"
   ]
  },
  {
   "cell_type": "code",
   "execution_count": 34,
   "metadata": {},
   "outputs": [
    {
     "data": {
      "text/plain": [
       "'9998887776'"
      ]
     },
     "execution_count": 34,
     "metadata": {},
     "output_type": "execute_result"
    }
   ],
   "source": [
    "find_phone_number(\"9998887776 is a phone number of Mark from 210,North Avenue\")"
   ]
  },
  {
   "cell_type": "code",
   "execution_count": 35,
   "metadata": {},
   "outputs": [],
   "source": [
    "df['phone_number']=df['text'].apply(lambda x: find_phone_number(x))"
   ]
  },
  {
   "cell_type": "markdown",
   "metadata": {},
   "source": [
    "<font size=\"+2\" color=\"indigo\"><b>4.8 Year</b></font><br><a id=\"4.8\"></a>\n",
    "\n",
    "Extract year from 1940 till 2020"
   ]
  },
  {
   "cell_type": "code",
   "execution_count": 36,
   "metadata": {},
   "outputs": [],
   "source": [
    "def find_year(text):\n",
    "    line=re.findall(r\"\\b(19[40][0-9]|20[0-1][0-9]|2020)\\b\",text)\n",
    "    return line"
   ]
  },
  {
   "cell_type": "code",
   "execution_count": 37,
   "metadata": {},
   "outputs": [
    {
     "data": {
      "text/plain": [
       "['1947']"
      ]
     },
     "execution_count": 37,
     "metadata": {},
     "output_type": "execute_result"
    }
   ],
   "source": [
    "sentence=\"India got independence on 1947.\"\n",
    "find_year(sentence)"
   ]
  },
  {
   "cell_type": "code",
   "execution_count": 38,
   "metadata": {},
   "outputs": [],
   "source": [
    "df['year']=df['text'].apply(lambda x: find_year(x))"
   ]
  },
  {
   "cell_type": "markdown",
   "metadata": {},
   "source": [
    "<font size=\"+2\" color=\"indigo\"><b>4.9 Non Alphanumeric</b></font><br><a id=\"4.9\"></a>"
   ]
  },
  {
   "cell_type": "code",
   "execution_count": 39,
   "metadata": {},
   "outputs": [],
   "source": [
    "def find_nonalp(text):\n",
    "    line = re.findall(\"[^A-Za-z0-9 ]\",text)\n",
    "    return line"
   ]
  },
  {
   "cell_type": "code",
   "execution_count": 40,
   "metadata": {},
   "outputs": [
    {
     "data": {
      "text/plain": [
       "['@', '#', '.', '(', ')']"
      ]
     },
     "execution_count": 40,
     "metadata": {},
     "output_type": "execute_result"
    }
   ],
   "source": [
    "sentence=\"Twitter has lots of @ and # in posts.(general tweet)\"\n",
    "find_nonalp(sentence)"
   ]
  },
  {
   "cell_type": "code",
   "execution_count": 41,
   "metadata": {},
   "outputs": [],
   "source": [
    "df['non_alp']=df['text'].apply(lambda x: find_nonalp(x))"
   ]
  },
  {
   "cell_type": "markdown",
   "metadata": {},
   "source": [
    "<font size=\"+2\" color=\"indigo\"><b>4.10 Punctuations</b></font><br><a id=\"4.10\"></a>\n",
    "\n",
    "Retrieve punctuations from sentence."
   ]
  },
  {
   "cell_type": "code",
   "execution_count": 42,
   "metadata": {},
   "outputs": [],
   "source": [
    "def find_punct(text):\n",
    "    line = re.findall(r'[!\"\\$%&\\'()*+,\\-.\\/:;=#@?\\[\\\\\\]^_`{|}~]*', text)\n",
    "    string=\"\".join(line)\n",
    "    return list(string)"
   ]
  },
  {
   "cell_type": "code",
   "execution_count": 43,
   "metadata": {},
   "outputs": [
    {
     "name": "stdout",
     "output_type": "stream",
     "text": [
      "['#', '.', '#', '(', ')']\n"
     ]
    }
   ],
   "source": [
    "example=\"Corona virus have kiled #24506 confirmed cases now.#Corona is un(tolerable)\"\n",
    "print(find_punct(example))"
   ]
  },
  {
   "cell_type": "code",
   "execution_count": 44,
   "metadata": {},
   "outputs": [],
   "source": [
    "df['punctuation']=df['text'].apply(lambda x : find_punct(x))"
   ]
  },
  {
   "cell_type": "markdown",
   "metadata": {},
   "source": [
    "<font size=\"+2\" color=\"indigo\"><b>4.11 Stopwords</b></font><br><a id=\"4.11\"></a>"
   ]
  },
  {
   "cell_type": "code",
   "execution_count": 45,
   "metadata": {},
   "outputs": [],
   "source": [
    "def stop_word_fn(text):\n",
    "    stop_words = set(stopwords.words('english')) \n",
    "    word_tokens = word_tokenize(text) \n",
    "    non_stop_words = [w for w in word_tokens if not w in stop_words] \n",
    "    stop_words= [w for w in word_tokens if w in stop_words] \n",
    "    return stop_words"
   ]
  },
  {
   "cell_type": "code",
   "execution_count": 46,
   "metadata": {},
   "outputs": [
    {
     "data": {
      "text/plain": [
       "['is', 'a', 'off', 'the']"
      ]
     },
     "execution_count": 46,
     "metadata": {},
     "output_type": "execute_result"
    }
   ],
   "source": [
    "example_sent = \"This is a sample sentence, showing off the stop words filtration.\"\n",
    "stop_word_fn(example_sent)"
   ]
  },
  {
   "cell_type": "code",
   "execution_count": 47,
   "metadata": {},
   "outputs": [],
   "source": [
    "df['stop_words']=df['text'].apply(lambda x : stop_word_fn(x))"
   ]
  },
  {
   "cell_type": "markdown",
   "metadata": {},
   "source": [
    "<font size=\"+2\" color=\"indigo\"><b>4.12 N-grams</b></font><br><a id=\"4.12\"></a>"
   ]
  },
  {
   "cell_type": "code",
   "execution_count": 48,
   "metadata": {},
   "outputs": [],
   "source": [
    "def ngrams_top(corpus,ngram_range,n=None):\n",
    "    \"\"\"\n",
    "    List the top n words in a vocabulary according to occurrence in a text corpus.\n",
    "    \"\"\"\n",
    "    vec = CountVectorizer(stop_words = 'english',ngram_range=ngram_range).fit(corpus)\n",
    "    bag_of_words = vec.transform(corpus)\n",
    "    sum_words = bag_of_words.sum(axis=0) \n",
    "    words_freq = [(word, sum_words[0, idx]) for word, idx in vec.vocabulary_.items()]\n",
    "    words_freq =sorted(words_freq, key = lambda x: x[1], reverse=True)\n",
    "    total_list=words_freq[:n]\n",
    "    df=pd.DataFrame(total_list,columns=['text','count'])\n",
    "    return df"
   ]
  },
  {
   "cell_type": "code",
   "execution_count": 49,
   "metadata": {},
   "outputs": [
    {
     "data": {
      "text/html": [
       "<div>\n",
       "<style scoped>\n",
       "    .dataframe tbody tr th:only-of-type {\n",
       "        vertical-align: middle;\n",
       "    }\n",
       "\n",
       "    .dataframe tbody tr th {\n",
       "        vertical-align: top;\n",
       "    }\n",
       "\n",
       "    .dataframe thead th {\n",
       "        text-align: right;\n",
       "    }\n",
       "</style>\n",
       "<table border=\"1\" class=\"dataframe\">\n",
       "  <thead>\n",
       "    <tr style=\"text-align: right;\">\n",
       "      <th></th>\n",
       "      <th>text</th>\n",
       "      <th>count</th>\n",
       "    </tr>\n",
       "  </thead>\n",
       "  <tbody>\n",
       "    <tr>\n",
       "      <th>0</th>\n",
       "      <td>just</td>\n",
       "      <td>2278</td>\n",
       "    </tr>\n",
       "    <tr>\n",
       "      <th>1</th>\n",
       "      <td>day</td>\n",
       "      <td>2115</td>\n",
       "    </tr>\n",
       "    <tr>\n",
       "      <th>2</th>\n",
       "      <td>good</td>\n",
       "      <td>1578</td>\n",
       "    </tr>\n",
       "    <tr>\n",
       "      <th>3</th>\n",
       "      <td>like</td>\n",
       "      <td>1353</td>\n",
       "    </tr>\n",
       "    <tr>\n",
       "      <th>4</th>\n",
       "      <td>http</td>\n",
       "      <td>1247</td>\n",
       "    </tr>\n",
       "    <tr>\n",
       "      <th>5</th>\n",
       "      <td>work</td>\n",
       "      <td>1150</td>\n",
       "    </tr>\n",
       "    <tr>\n",
       "      <th>6</th>\n",
       "      <td>today</td>\n",
       "      <td>1147</td>\n",
       "    </tr>\n",
       "    <tr>\n",
       "      <th>7</th>\n",
       "      <td>love</td>\n",
       "      <td>1145</td>\n",
       "    </tr>\n",
       "    <tr>\n",
       "      <th>8</th>\n",
       "      <td>going</td>\n",
       "      <td>1103</td>\n",
       "    </tr>\n",
       "    <tr>\n",
       "      <th>9</th>\n",
       "      <td>got</td>\n",
       "      <td>1085</td>\n",
       "    </tr>\n",
       "  </tbody>\n",
       "</table>\n",
       "</div>"
      ],
      "text/plain": [
       "    text  count\n",
       "0   just   2278\n",
       "1    day   2115\n",
       "2   good   1578\n",
       "3   like   1353\n",
       "4   http   1247\n",
       "5   work   1150\n",
       "6  today   1147\n",
       "7   love   1145\n",
       "8  going   1103\n",
       "9    got   1085"
      ]
     },
     "execution_count": 49,
     "metadata": {},
     "output_type": "execute_result"
    }
   ],
   "source": [
    "ngrams_top(df['text'],(1,1),n=10)"
   ]
  },
  {
   "cell_type": "code",
   "execution_count": 50,
   "metadata": {},
   "outputs": [
    {
     "data": {
      "text/html": [
       "<div>\n",
       "<style scoped>\n",
       "    .dataframe tbody tr th:only-of-type {\n",
       "        vertical-align: middle;\n",
       "    }\n",
       "\n",
       "    .dataframe tbody tr th {\n",
       "        vertical-align: top;\n",
       "    }\n",
       "\n",
       "    .dataframe thead th {\n",
       "        text-align: right;\n",
       "    }\n",
       "</style>\n",
       "<table border=\"1\" class=\"dataframe\">\n",
       "  <thead>\n",
       "    <tr style=\"text-align: right;\">\n",
       "      <th></th>\n",
       "      <th>text</th>\n",
       "      <th>count</th>\n",
       "    </tr>\n",
       "  </thead>\n",
       "  <tbody>\n",
       "    <tr>\n",
       "      <th>0</th>\n",
       "      <td>mother day</td>\n",
       "      <td>358</td>\n",
       "    </tr>\n",
       "    <tr>\n",
       "      <th>1</th>\n",
       "      <td>twitpic com</td>\n",
       "      <td>334</td>\n",
       "    </tr>\n",
       "    <tr>\n",
       "      <th>2</th>\n",
       "      <td>http twitpic</td>\n",
       "      <td>332</td>\n",
       "    </tr>\n",
       "    <tr>\n",
       "      <th>3</th>\n",
       "      <td>mothers day</td>\n",
       "      <td>279</td>\n",
       "    </tr>\n",
       "    <tr>\n",
       "      <th>4</th>\n",
       "      <td>happy mother</td>\n",
       "      <td>275</td>\n",
       "    </tr>\n",
       "    <tr>\n",
       "      <th>5</th>\n",
       "      <td>just got</td>\n",
       "      <td>219</td>\n",
       "    </tr>\n",
       "    <tr>\n",
       "      <th>6</th>\n",
       "      <td>happy mothers</td>\n",
       "      <td>199</td>\n",
       "    </tr>\n",
       "    <tr>\n",
       "      <th>7</th>\n",
       "      <td>http bit</td>\n",
       "      <td>180</td>\n",
       "    </tr>\n",
       "    <tr>\n",
       "      <th>8</th>\n",
       "      <td>bit ly</td>\n",
       "      <td>180</td>\n",
       "    </tr>\n",
       "    <tr>\n",
       "      <th>9</th>\n",
       "      <td>good morning</td>\n",
       "      <td>176</td>\n",
       "    </tr>\n",
       "  </tbody>\n",
       "</table>\n",
       "</div>"
      ],
      "text/plain": [
       "            text  count\n",
       "0     mother day    358\n",
       "1    twitpic com    334\n",
       "2   http twitpic    332\n",
       "3    mothers day    279\n",
       "4   happy mother    275\n",
       "5       just got    219\n",
       "6  happy mothers    199\n",
       "7       http bit    180\n",
       "8         bit ly    180\n",
       "9   good morning    176"
      ]
     },
     "execution_count": 50,
     "metadata": {},
     "output_type": "execute_result"
    }
   ],
   "source": [
    "ngrams_top(df['text'],(2,2),n=10)"
   ]
  },
  {
   "cell_type": "code",
   "execution_count": 51,
   "metadata": {},
   "outputs": [
    {
     "data": {
      "text/html": [
       "<div>\n",
       "<style scoped>\n",
       "    .dataframe tbody tr th:only-of-type {\n",
       "        vertical-align: middle;\n",
       "    }\n",
       "\n",
       "    .dataframe tbody tr th {\n",
       "        vertical-align: top;\n",
       "    }\n",
       "\n",
       "    .dataframe thead th {\n",
       "        text-align: right;\n",
       "    }\n",
       "</style>\n",
       "<table border=\"1\" class=\"dataframe\">\n",
       "  <thead>\n",
       "    <tr style=\"text-align: right;\">\n",
       "      <th></th>\n",
       "      <th>text</th>\n",
       "      <th>count</th>\n",
       "    </tr>\n",
       "  </thead>\n",
       "  <tbody>\n",
       "    <tr>\n",
       "      <th>0</th>\n",
       "      <td>http twitpic com</td>\n",
       "      <td>332</td>\n",
       "    </tr>\n",
       "    <tr>\n",
       "      <th>1</th>\n",
       "      <td>happy mother day</td>\n",
       "      <td>268</td>\n",
       "    </tr>\n",
       "    <tr>\n",
       "      <th>2</th>\n",
       "      <td>happy mothers day</td>\n",
       "      <td>195</td>\n",
       "    </tr>\n",
       "    <tr>\n",
       "      <th>3</th>\n",
       "      <td>http bit ly</td>\n",
       "      <td>180</td>\n",
       "    </tr>\n",
       "    <tr>\n",
       "      <th>4</th>\n",
       "      <td>http tinyurl com</td>\n",
       "      <td>166</td>\n",
       "    </tr>\n",
       "    <tr>\n",
       "      <th>5</th>\n",
       "      <td>http plurk com</td>\n",
       "      <td>109</td>\n",
       "    </tr>\n",
       "    <tr>\n",
       "      <th>6</th>\n",
       "      <td>star wars day</td>\n",
       "      <td>73</td>\n",
       "    </tr>\n",
       "    <tr>\n",
       "      <th>7</th>\n",
       "      <td>http blip fm</td>\n",
       "      <td>73</td>\n",
       "    </tr>\n",
       "    <tr>\n",
       "      <th>8</th>\n",
       "      <td>happy star wars</td>\n",
       "      <td>56</td>\n",
       "    </tr>\n",
       "    <tr>\n",
       "      <th>9</th>\n",
       "      <td>just got home</td>\n",
       "      <td>53</td>\n",
       "    </tr>\n",
       "  </tbody>\n",
       "</table>\n",
       "</div>"
      ],
      "text/plain": [
       "                text  count\n",
       "0   http twitpic com    332\n",
       "1   happy mother day    268\n",
       "2  happy mothers day    195\n",
       "3        http bit ly    180\n",
       "4   http tinyurl com    166\n",
       "5     http plurk com    109\n",
       "6      star wars day     73\n",
       "7       http blip fm     73\n",
       "8    happy star wars     56\n",
       "9      just got home     53"
      ]
     },
     "execution_count": 51,
     "metadata": {},
     "output_type": "execute_result"
    }
   ],
   "source": [
    "ngrams_top(df['text'],(3,3),n=10)"
   ]
  },
  {
   "cell_type": "markdown",
   "metadata": {},
   "source": [
    "<font size=\"+2\" color=\"indigo\"><b>4.13 Repetitive Character</b></font><br><a id=\"4.13\"></a>"
   ]
  },
  {
   "cell_type": "markdown",
   "metadata": {},
   "source": [
    "If you want to change match repetitive characters to n numbers,**chage the return line in the *rep function* to grp[0:n]**."
   ]
  },
  {
   "cell_type": "code",
   "execution_count": 52,
   "metadata": {},
   "outputs": [],
   "source": [
    "def rep(text):\n",
    "    grp = text.group(0)\n",
    "    if len(grp) > 1:\n",
    "        return grp[0:1] # can change the value here on repetition\n",
    "def unique_char(rep,sentence):\n",
    "    convert = re.sub(r'(\\w)\\1+', rep, sentence) \n",
    "    return convert"
   ]
  },
  {
   "cell_type": "code",
   "execution_count": 53,
   "metadata": {},
   "outputs": [
    {
     "data": {
      "text/plain": [
       "'hey this is long text son'"
      ]
     },
     "execution_count": 53,
     "metadata": {},
     "output_type": "execute_result"
    }
   ],
   "source": [
    "sentence=\"heyyy this is loong textttt sooon\"\n",
    "unique_char(rep,sentence)"
   ]
  },
  {
   "cell_type": "code",
   "execution_count": 54,
   "metadata": {},
   "outputs": [],
   "source": [
    "df['unique_char']=df['text'].apply(lambda x : unique_char(rep,x))"
   ]
  },
  {
   "cell_type": "markdown",
   "metadata": {},
   "source": [
    "<font size=\"+2\" color=\"indigo\"><b>4.14 Dollar</b></font><br><a id=\"4.14\"></a>"
   ]
  },
  {
   "cell_type": "code",
   "execution_count": 55,
   "metadata": {},
   "outputs": [],
   "source": [
    "def find_dollar(text):\n",
    "    line=re.findall(r'\\$\\d+(?:\\.\\d+)?',text)\n",
    "    return \" \".join(line)\n",
    "\n",
    "# \\$ - dollar sign followed by\n",
    "# \\d+ one or more digits\n",
    "# (?:\\.\\d+)? - decimal which is optional"
   ]
  },
  {
   "cell_type": "code",
   "execution_count": 56,
   "metadata": {},
   "outputs": [
    {
     "data": {
      "text/plain": [
       "'$20.56'"
      ]
     },
     "execution_count": 56,
     "metadata": {},
     "output_type": "execute_result"
    }
   ],
   "source": [
    "sentence=\"this shirt costs $20.56\"\n",
    "find_dollar(sentence)"
   ]
  },
  {
   "cell_type": "code",
   "execution_count": 57,
   "metadata": {},
   "outputs": [],
   "source": [
    "df['dollar']=df['text'].apply(lambda x : find_dollar(x))"
   ]
  },
  {
   "cell_type": "markdown",
   "metadata": {},
   "source": [
    "<font size=\"+2\" color=\"indigo\"><b>4.15 Number-Greater</b></font><br><a id=\"4.15\"></a>"
   ]
  },
  {
   "cell_type": "code",
   "execution_count": 58,
   "metadata": {},
   "outputs": [],
   "source": [
    "#Number greater than 930\n",
    "def num_great(text): \n",
    "    line=re.findall(r'9[3-9][0-9]|[1-9]\\d{3,}',text)\n",
    "    return \" \".join(line)"
   ]
  },
  {
   "cell_type": "code",
   "execution_count": 59,
   "metadata": {},
   "outputs": [
    {
     "data": {
      "text/plain": [
       "'935 29974'"
      ]
     },
     "execution_count": 59,
     "metadata": {},
     "output_type": "execute_result"
    }
   ],
   "source": [
    "sentence=\"It is expected to be more than 935 corona death and 29974 observation cases across 29 states in india\"\n",
    "num_great(sentence)"
   ]
  },
  {
   "cell_type": "code",
   "execution_count": 60,
   "metadata": {},
   "outputs": [],
   "source": [
    "#Number greater than 930 (Just part of example)\n",
    "df['num_great']=df['text'].apply(lambda x : num_great(x))"
   ]
  },
  {
   "cell_type": "markdown",
   "metadata": {},
   "source": [
    "<font size=\"+2\" color=\"indigo\"><b>4.16 Number Lesser</b></font><br><a id=\"4.16\"></a>"
   ]
  },
  {
   "cell_type": "code",
   "execution_count": 61,
   "metadata": {},
   "outputs": [],
   "source": [
    "# Number less than 930\n",
    "def num_less(text):\n",
    "    only_num=[]\n",
    "    for i in text.split():\n",
    "        line=re.findall(r'^(9[0-2][0-0]|[1-8][0-9][0-9]|[1-9][0-9]|[0-9])$',i) # 5 500\n",
    "        only_num.append(line)\n",
    "        all_num=[\",\".join(x) for x in only_num if x != []]\n",
    "    return \" \".join(all_num)"
   ]
  },
  {
   "cell_type": "code",
   "execution_count": 62,
   "metadata": {},
   "outputs": [
    {
     "data": {
      "text/plain": [
       "'920'"
      ]
     },
     "execution_count": 62,
     "metadata": {},
     "output_type": "execute_result"
    }
   ],
   "source": [
    "sentence=\"There are some countries where less than 920 cases exist with 1100 observations\"\n",
    "num_less(sentence)"
   ]
  },
  {
   "cell_type": "code",
   "execution_count": 63,
   "metadata": {},
   "outputs": [],
   "source": [
    "#Number greater than 930 (Just part of example)\n",
    "df['num_less']=df['text'].apply(lambda x : num_less(x))"
   ]
  },
  {
   "cell_type": "markdown",
   "metadata": {},
   "source": [
    "<font size=\"+2\" color=\"indigo\"><b>4.17 OR</b></font><br><a id=\"4.17\"></a>"
   ]
  },
  {
   "cell_type": "code",
   "execution_count": 64,
   "metadata": {},
   "outputs": [],
   "source": [
    "def or_cond(text,key1,key2):\n",
    "    line=re.findall(r\"{}|{}\".format(key1,key2), text) \n",
    "    return \" \".join(line)"
   ]
  },
  {
   "cell_type": "code",
   "execution_count": 65,
   "metadata": {},
   "outputs": [
    {
     "data": {
      "text/plain": [
       "'sad sorrow'"
      ]
     },
     "execution_count": 65,
     "metadata": {},
     "output_type": "execute_result"
    }
   ],
   "source": [
    "sentence=\"sad and sorrow displays emotions\"\n",
    "or_cond(sentence,'sad','sorrow')"
   ]
  },
  {
   "cell_type": "code",
   "execution_count": 66,
   "metadata": {},
   "outputs": [],
   "source": [
    "# Looks for sorrow or sad word\n",
    "df['sad_or_sorrow']=df['text'].apply(lambda x : or_cond(x,'sad','sorrow'))"
   ]
  },
  {
   "cell_type": "markdown",
   "metadata": {},
   "source": [
    "<font size=\"+2\" color=\"indigo\"><b>4.18 AND</b></font><br><a id=\"4.18\"></a>"
   ]
  },
  {
   "cell_type": "code",
   "execution_count": 67,
   "metadata": {},
   "outputs": [],
   "source": [
    "def and_cond(text):\n",
    "    line=re.findall(r'(?=.*do)(?=.*die).*', text) \n",
    "    return \" \".join(line)"
   ]
  },
  {
   "cell_type": "code",
   "execution_count": 68,
   "metadata": {},
   "outputs": [
    {
     "name": "stdout",
     "output_type": "stream",
     "text": [
      "Both string present: do or die is a motivating phrase\n",
      "Only one string present : \n"
     ]
    }
   ],
   "source": [
    "print(\"Both string present:\",and_cond(\"do or die is a motivating phrase\"))\n",
    "print(\"Only one string present :\",and_cond('die word is other side of emotion'))"
   ]
  },
  {
   "cell_type": "code",
   "execution_count": 69,
   "metadata": {},
   "outputs": [],
   "source": [
    "# Looks for do and die both else empty\n",
    "df['do_and_die']=df['text'].apply(lambda x : and_cond(x))"
   ]
  },
  {
   "cell_type": "markdown",
   "metadata": {},
   "source": [
    "<font size=\"+2\" color=\"indigo\"><b>4.19 Dates</b></font><br><a id=\"4.19\"></a>"
   ]
  },
  {
   "cell_type": "code",
   "execution_count": 70,
   "metadata": {},
   "outputs": [],
   "source": [
    "# mm-dd-yyyy format \n",
    "def find_dates(text):\n",
    "    line=re.findall(r'\\b(1[0-2]|0[1-9])/(3[01]|[12][0-9]|0[1-9])/([0-9]{4})\\b',text)\n",
    "    return line\n"
   ]
  },
  {
   "cell_type": "code",
   "execution_count": 71,
   "metadata": {},
   "outputs": [
    {
     "data": {
      "text/plain": [
       "[('04', '28', '2020')]"
      ]
     },
     "execution_count": 71,
     "metadata": {},
     "output_type": "execute_result"
    }
   ],
   "source": [
    "sentence=\"Todays date is 04/28/2020 for format mm/dd/yyyy, not 28/04/2020\"\n",
    "find_dates(sentence)"
   ]
  },
  {
   "cell_type": "code",
   "execution_count": 72,
   "metadata": {},
   "outputs": [],
   "source": [
    "df['dates']=df['text'].apply(lambda x : find_dates(x))"
   ]
  },
  {
   "cell_type": "markdown",
   "metadata": {},
   "source": [
    "<font size=\"+2\" color=\"indigo\"><b>4.20 Only Words</b></font><br><a id=\"4.20\"></a>"
   ]
  },
  {
   "cell_type": "code",
   "execution_count": 73,
   "metadata": {},
   "outputs": [],
   "source": [
    "def only_words(text):\n",
    "    line=re.findall(r'\\b[^\\d\\W]+\\b', text)\n",
    "    return \" \".join(line)\n"
   ]
  },
  {
   "cell_type": "code",
   "execution_count": 74,
   "metadata": {},
   "outputs": [
    {
     "data": {
      "text/plain": [
       "'the world population has grown from million to million'"
      ]
     },
     "execution_count": 74,
     "metadata": {},
     "output_type": "execute_result"
    }
   ],
   "source": [
    "sentence=\"the world population has grown from 1650 million to 6000 million\"\n",
    "only_words(sentence)"
   ]
  },
  {
   "cell_type": "code",
   "execution_count": 75,
   "metadata": {},
   "outputs": [],
   "source": [
    "df['only_words']=df['text'].apply(lambda x : only_words(x))"
   ]
  },
  {
   "cell_type": "markdown",
   "metadata": {},
   "source": [
    "<a id=\"4.21\"></a>\n",
    "<font size=\"+2\" color=\"indigo\"><b>4.21 Only Numbers</b></font>"
   ]
  },
  {
   "cell_type": "code",
   "execution_count": 76,
   "metadata": {},
   "outputs": [],
   "source": [
    "def only_numbers(text):\n",
    "    line=re.findall(r'\\b\\d+\\b', text)\n",
    "    return \" \".join(line)"
   ]
  },
  {
   "cell_type": "code",
   "execution_count": 77,
   "metadata": {},
   "outputs": [
    {
     "data": {
      "text/plain": [
       "'1650 6000'"
      ]
     },
     "execution_count": 77,
     "metadata": {},
     "output_type": "execute_result"
    }
   ],
   "source": [
    "sentence=\"the world population has grown from 1650 million to 6000 million\"\n",
    "only_numbers(sentence)"
   ]
  },
  {
   "cell_type": "code",
   "execution_count": 78,
   "metadata": {},
   "outputs": [],
   "source": [
    "df['only_num']=df['text'].apply(lambda x : only_numbers(x))"
   ]
  },
  {
   "cell_type": "markdown",
   "metadata": {},
   "source": [
    "<a id=\"4.22\"></a>\n",
    "<font size=\"+2\" color=\"indigo\"><b>4.22 Boundaries</b></font><br><br>\n",
    "Picking up the words with boundaries"
   ]
  },
  {
   "cell_type": "code",
   "execution_count": 79,
   "metadata": {},
   "outputs": [],
   "source": [
    "# Extracting word with boundary\n",
    "def boundary(text):\n",
    "    line=re.findall(r'\\bneutral\\b', text)\n",
    "    return \" \".join(line)"
   ]
  },
  {
   "cell_type": "code",
   "execution_count": 80,
   "metadata": {},
   "outputs": [
    {
     "data": {
      "text/plain": [
       "'neutral'"
      ]
     },
     "execution_count": 80,
     "metadata": {},
     "output_type": "execute_result"
    }
   ],
   "source": [
    "sentence=\"Most tweets are neutral in twitter\"\n",
    "boundary(sentence)"
   ]
  },
  {
   "cell_type": "code",
   "execution_count": 81,
   "metadata": {},
   "outputs": [],
   "source": [
    "df['bound']=df['text'].apply(lambda x : boundary(x))"
   ]
  },
  {
   "cell_type": "markdown",
   "metadata": {},
   "source": [
    "<a id=\"4.23\"></a>\n",
    "<font size=\"+2\" color=\"indigo\"><b>4.23 Search</b></font><br><br>\n",
    "Is the key word present in the sentence?"
   ]
  },
  {
   "cell_type": "code",
   "execution_count": 82,
   "metadata": {},
   "outputs": [],
   "source": [
    "def search_string(text,key):\n",
    "    return bool(re.search(r''+key+'', text))"
   ]
  },
  {
   "cell_type": "code",
   "execution_count": 83,
   "metadata": {},
   "outputs": [
    {
     "data": {
      "text/plain": [
       "True"
      ]
     },
     "execution_count": 83,
     "metadata": {},
     "output_type": "execute_result"
    }
   ],
   "source": [
    "sentence=\"Happy Mothers day to all Moms\"\n",
    "search_string(sentence,'day')"
   ]
  },
  {
   "cell_type": "code",
   "execution_count": 84,
   "metadata": {},
   "outputs": [],
   "source": [
    "df['search_day']=df['text'].apply(lambda x : search_string(x,'day'))"
   ]
  },
  {
   "cell_type": "markdown",
   "metadata": {},
   "source": [
    "<a id=\"4.24\"></a>\n",
    "<font size=\"+2\" color=\"indigo\"><b>4.24 Pick Sentence</b></font><br><br>\n",
    "If we want to get all sentence with particular keyword.We can use below function"
   ]
  },
  {
   "cell_type": "code",
   "execution_count": 85,
   "metadata": {},
   "outputs": [],
   "source": [
    "def pick_only_key_sentence(text,keyword):\n",
    "    line=re.findall(r'([^.]*'+keyword+'[^.]*)', text)\n",
    "    return line"
   ]
  },
  {
   "cell_type": "code",
   "execution_count": 86,
   "metadata": {},
   "outputs": [
    {
     "data": {
      "text/plain": [
       "['People are fighting with covid these days', 'How will we survice covid']"
      ]
     },
     "execution_count": 86,
     "metadata": {},
     "output_type": "execute_result"
    }
   ],
   "source": [
    "sentence=\"People are fighting with covid these days.Economy has fallen down.How will we survice covid\"\n",
    "pick_only_key_sentence(sentence,'covid')"
   ]
  },
  {
   "cell_type": "code",
   "execution_count": 87,
   "metadata": {},
   "outputs": [],
   "source": [
    "df['pick_senence']=df['text'].apply(lambda x : pick_only_key_sentence(x,'covid'))"
   ]
  },
  {
   "cell_type": "markdown",
   "metadata": {},
   "source": [
    "<a id=\"4.25\"></a>\n",
    "<font size=\"+2\" color=\"indigo\"><b>4.25 Duplicate Sentence</b></font><br><br>\n",
    "Most webscrapped data contains duplicated sentence.This function could retrieve unique ones."
   ]
  },
  {
   "cell_type": "code",
   "execution_count": 88,
   "metadata": {},
   "outputs": [],
   "source": [
    "def pick_unique_sentence(text):\n",
    "    line=re.findall(r'(?sm)(^[^\\r\\n]+$)(?!.*^\\1$)', text)\n",
    "    return line"
   ]
  },
  {
   "cell_type": "code",
   "execution_count": 89,
   "metadata": {},
   "outputs": [
    {
     "data": {
      "text/plain": [
       "['Doctors are working very hard in this pandemic situation', 'I thank doctors']"
      ]
     },
     "execution_count": 89,
     "metadata": {},
     "output_type": "execute_result"
    }
   ],
   "source": [
    "sentence=\"I thank doctors\\nDoctors are working very hard in this pandemic situation\\nI thank doctors\"\n",
    "pick_unique_sentence(sentence)"
   ]
  },
  {
   "cell_type": "code",
   "execution_count": 90,
   "metadata": {},
   "outputs": [],
   "source": [
    "df['pick_unique']=df['text'].apply(lambda x : pick_unique_sentence(x))"
   ]
  },
  {
   "cell_type": "markdown",
   "metadata": {},
   "source": [
    "<a id=\"4.26\"></a>\n",
    "<font size=\"+2\" color=\"indigo\"><b>4.26 Caps Words</b></font><br><br>\n",
    "Extract words starting with capital letter.Some words like names,place or universal object are usually mentioned in a text starting with CAPS."
   ]
  },
  {
   "cell_type": "code",
   "execution_count": 91,
   "metadata": {},
   "outputs": [],
   "source": [
    "def find_capital(text):\n",
    "    line=re.findall(r'\\b[A-Z]\\w+', text)\n",
    "    return line"
   ]
  },
  {
   "cell_type": "code",
   "execution_count": 92,
   "metadata": {},
   "outputs": [
    {
     "data": {
      "text/plain": [
       "['World', 'No', 'God']"
      ]
     },
     "execution_count": 92,
     "metadata": {},
     "output_type": "execute_result"
    }
   ],
   "source": [
    "sentence=\"World is affected by corona crisis.No one other than God can save us from it\"\n",
    "find_capital(sentence)"
   ]
  },
  {
   "cell_type": "code",
   "execution_count": 93,
   "metadata": {},
   "outputs": [],
   "source": [
    "df['caps_word']=df['text'].apply(lambda x : find_capital(x))"
   ]
  },
  {
   "cell_type": "markdown",
   "metadata": {},
   "source": [
    "<a id=\"4.27\"></a>\n",
    "<font size=\"+2\" color=\"indigo\"><b>4.27 Length of words</b></font><br><br>\n",
    "No regex but added one liner to identify length of words in a sentence"
   ]
  },
  {
   "cell_type": "code",
   "execution_count": 94,
   "metadata": {},
   "outputs": [
    {
     "data": {
      "text/html": [
       "<div>\n",
       "<style scoped>\n",
       "    .dataframe tbody tr th:only-of-type {\n",
       "        vertical-align: middle;\n",
       "    }\n",
       "\n",
       "    .dataframe tbody tr th {\n",
       "        vertical-align: top;\n",
       "    }\n",
       "\n",
       "    .dataframe thead th {\n",
       "        text-align: right;\n",
       "    }\n",
       "</style>\n",
       "<table border=\"1\" class=\"dataframe\">\n",
       "  <thead>\n",
       "    <tr style=\"text-align: right;\">\n",
       "      <th></th>\n",
       "      <th>text</th>\n",
       "      <th>text_length</th>\n",
       "    </tr>\n",
       "  </thead>\n",
       "  <tbody>\n",
       "    <tr>\n",
       "      <th>6481</th>\n",
       "      <td>I had 2 hoes .. now I have none</td>\n",
       "      <td>9</td>\n",
       "    </tr>\n",
       "    <tr>\n",
       "      <th>10409</th>\n",
       "      <td>I couldn`t find any extendable ones.</td>\n",
       "      <td>6</td>\n",
       "    </tr>\n",
       "    <tr>\n",
       "      <th>13454</th>\n",
       "      <td>Writing out to tape.  #48hoursnz</td>\n",
       "      <td>5</td>\n",
       "    </tr>\n",
       "  </tbody>\n",
       "</table>\n",
       "</div>"
      ],
      "text/plain": [
       "                                        text  text_length\n",
       "6481         I had 2 hoes .. now I have none            9\n",
       "10409   I couldn`t find any extendable ones.            6\n",
       "13454       Writing out to tape.  #48hoursnz            5"
      ]
     },
     "execution_count": 94,
     "metadata": {},
     "output_type": "execute_result"
    }
   ],
   "source": [
    "df['text_length']=df['text'].str.split().map(lambda x: len(x))\n",
    "df[['text','text_length']].sample(3)"
   ]
  },
  {
   "cell_type": "markdown",
   "metadata": {},
   "source": [
    "<a id=\"4.28\"></a>\n",
    "<font size=\"+2\" color=\"indigo\"><b>4.28 Length of characters</b></font><br><br>\n",
    "No regex but added one liner to identify length of characters in a sentence including space"
   ]
  },
  {
   "cell_type": "code",
   "execution_count": 95,
   "metadata": {},
   "outputs": [
    {
     "data": {
      "text/html": [
       "<div>\n",
       "<style scoped>\n",
       "    .dataframe tbody tr th:only-of-type {\n",
       "        vertical-align: middle;\n",
       "    }\n",
       "\n",
       "    .dataframe tbody tr th {\n",
       "        vertical-align: top;\n",
       "    }\n",
       "\n",
       "    .dataframe thead th {\n",
       "        text-align: right;\n",
       "    }\n",
       "</style>\n",
       "<table border=\"1\" class=\"dataframe\">\n",
       "  <thead>\n",
       "    <tr style=\"text-align: right;\">\n",
       "      <th></th>\n",
       "      <th>text</th>\n",
       "      <th>char_length</th>\n",
       "    </tr>\n",
       "  </thead>\n",
       "  <tbody>\n",
       "    <tr>\n",
       "      <th>13609</th>\n",
       "      <td>Indeed. Thanks for sharing that! Now I can go...</td>\n",
       "      <td>72</td>\n",
       "    </tr>\n",
       "    <tr>\n",
       "      <th>8708</th>\n",
       "      <td>hey girl i just sent ya a message on Myspace</td>\n",
       "      <td>45</td>\n",
       "    </tr>\n",
       "    <tr>\n",
       "      <th>21245</th>\n",
       "      <td>says from now it will be impossible to Plurk f...</td>\n",
       "      <td>136</td>\n",
       "    </tr>\n",
       "  </tbody>\n",
       "</table>\n",
       "</div>"
      ],
      "text/plain": [
       "                                                    text  char_length\n",
       "13609   Indeed. Thanks for sharing that! Now I can go...           72\n",
       "8708        hey girl i just sent ya a message on Myspace           45\n",
       "21245  says from now it will be impossible to Plurk f...          136"
      ]
     },
     "execution_count": 95,
     "metadata": {},
     "output_type": "execute_result"
    }
   ],
   "source": [
    "df['char_length']=df['text'].str.len()\n",
    "df[['text','char_length']].sample(3)"
   ]
  },
  {
   "cell_type": "markdown",
   "metadata": {},
   "source": [
    "<a id=\"4.29\"></a>\n",
    "<font size=\"+2\" color=\"indigo\"><b>4.29 Get ID</b></font><br><br>\n",
    "Most data has IDs in it with some prefix.So if we want to pick only numbers in ID leaving the prefix out,we can apply below function."
   ]
  },
  {
   "cell_type": "code",
   "execution_count": 96,
   "metadata": {},
   "outputs": [],
   "source": [
    "def find_id(text):\n",
    "    line=re.findall(r'\\bIND(\\d+)', text)\n",
    "    return line"
   ]
  },
  {
   "cell_type": "code",
   "execution_count": 97,
   "metadata": {},
   "outputs": [
    {
     "data": {
      "text/plain": [
       "['50120']"
      ]
     },
     "execution_count": 97,
     "metadata": {},
     "output_type": "execute_result"
    }
   ],
   "source": [
    "sentence=\"My company id is IND50120.And I work under Asia region\"\n",
    "find_id(sentence)"
   ]
  },
  {
   "cell_type": "code",
   "execution_count": 98,
   "metadata": {},
   "outputs": [],
   "source": [
    "df['get_id']=df['text'].apply(lambda x : find_id(x))"
   ]
  },
  {
   "cell_type": "markdown",
   "metadata": {},
   "source": [
    "<a id=\"4.30\"></a>\n",
    "<font size=\"+2\" color=\"indigo\"><b>4.30 Specific String Rows</b></font><br><br>\n",
    "Quering for specific string can also be done by directly applying *\"str.contains(\"XXXX\")\"* to a series/column of a dataframe"
   ]
  },
  {
   "cell_type": "code",
   "execution_count": 99,
   "metadata": {},
   "outputs": [
    {
     "data": {
      "text/html": [
       "<div>\n",
       "<style scoped>\n",
       "    .dataframe tbody tr th:only-of-type {\n",
       "        vertical-align: middle;\n",
       "    }\n",
       "\n",
       "    .dataframe tbody tr th {\n",
       "        vertical-align: top;\n",
       "    }\n",
       "\n",
       "    .dataframe thead th {\n",
       "        text-align: right;\n",
       "    }\n",
       "</style>\n",
       "<table border=\"1\" class=\"dataframe\">\n",
       "  <thead>\n",
       "    <tr style=\"text-align: right;\">\n",
       "      <th></th>\n",
       "      <th>text</th>\n",
       "    </tr>\n",
       "  </thead>\n",
       "  <tbody>\n",
       "    <tr>\n",
       "      <th>476</th>\n",
       "      <td>i think it`s under a honeymoon by the good li...</td>\n",
       "    </tr>\n",
       "    <tr>\n",
       "      <th>8285</th>\n",
       "      <td>Oh dear, it will be late there.... good ol Mi...</td>\n",
       "    </tr>\n",
       "    <tr>\n",
       "      <th>16029</th>\n",
       "      <td>i need a hug i dnt feel so good</td>\n",
       "    </tr>\n",
       "  </tbody>\n",
       "</table>\n",
       "</div>"
      ],
      "text/plain": [
       "                                                    text\n",
       "476     i think it`s under a honeymoon by the good li...\n",
       "8285    Oh dear, it will be late there.... good ol Mi...\n",
       "16029                    i need a hug i dnt feel so good"
      ]
     },
     "execution_count": 99,
     "metadata": {},
     "output_type": "execute_result"
    }
   ],
   "source": [
    "my_string_rows = df[df['text'].str.contains(\"good\")]\n",
    "my_string_rows[['text']].sample(3)"
   ]
  },
  {
   "cell_type": "markdown",
   "metadata": {},
   "source": [
    "<a id=\"4.31\"></a>\n",
    "<font size=\"+2\" color=\"indigo\"><b>4.31 Hex code to Color</b></font><br><br>\n",
    "Converting hex color codes to color names.We will install and import webcolors. (only for CSS3 colors)"
   ]
  },
  {
   "cell_type": "code",
   "execution_count": 100,
   "metadata": {},
   "outputs": [
    {
     "name": "stdout",
     "output_type": "stream",
     "text": [
      "Collecting webcolors\r\n",
      "  Downloading webcolors-1.11.1-py3-none-any.whl (9.9 kB)\r\n",
      "Installing collected packages: webcolors\r\n",
      "Successfully installed webcolors-1.11.1\r\n"
     ]
    }
   ],
   "source": [
    "!pip install webcolors\n",
    "import webcolors"
   ]
  },
  {
   "cell_type": "code",
   "execution_count": 101,
   "metadata": {},
   "outputs": [],
   "source": [
    "def find_color(string): \n",
    "    text = re.findall('\\#(?:[0-9a-fA-F]{3}){1,2}',string)\n",
    "    conv_name=[]\n",
    "    for i in text:\n",
    "        conv_name.append(webcolors.hex_to_name(i))\n",
    "    return conv_name"
   ]
  },
  {
   "cell_type": "code",
   "execution_count": 102,
   "metadata": {},
   "outputs": [
    {
     "data": {
      "text/plain": [
       "['lime', 'orangered']"
      ]
     },
     "execution_count": 102,
     "metadata": {},
     "output_type": "execute_result"
    }
   ],
   "source": [
    "sentence=\"Find the color of #00FF00 and #FF4500\"\n",
    "find_color(sentence)"
   ]
  },
  {
   "cell_type": "markdown",
   "metadata": {},
   "source": [
    "Try more hex codes:https://www.rapidtables.com/web/css/css-color.html"
   ]
  },
  {
   "cell_type": "markdown",
   "metadata": {},
   "source": [
    "<a id=\"4.32\"></a>\n",
    "<font size=\"+2\" color=\"indigo\"><b>4.32 Tags</b></font><br><br>\n",
    "Most of web scrapped data contains html tags.It can be removed from below re script"
   ]
  },
  {
   "cell_type": "code",
   "execution_count": 103,
   "metadata": {},
   "outputs": [],
   "source": [
    "def remove_tag(string):\n",
    "    text=re.sub('<.*?>','',string)\n",
    "    return text"
   ]
  },
  {
   "cell_type": "code",
   "execution_count": 104,
   "metadata": {},
   "outputs": [
    {
     "data": {
      "text/plain": [
       "'Markdown sentences can use  for breaks and  for italics'"
      ]
     },
     "execution_count": 104,
     "metadata": {},
     "output_type": "execute_result"
    }
   ],
   "source": [
    "sentence=\"Markdown sentences can use <br> for breaks and <i></i> for italics\"\n",
    "remove_tag(sentence)"
   ]
  },
  {
   "cell_type": "markdown",
   "metadata": {},
   "source": [
    "## *Data with new Features*"
   ]
  },
  {
   "cell_type": "code",
   "execution_count": 105,
   "metadata": {},
   "outputs": [
    {
     "data": {
      "text/html": [
       "<div>\n",
       "<style scoped>\n",
       "    .dataframe tbody tr th:only-of-type {\n",
       "        vertical-align: middle;\n",
       "    }\n",
       "\n",
       "    .dataframe tbody tr th {\n",
       "        vertical-align: top;\n",
       "    }\n",
       "\n",
       "    .dataframe thead th {\n",
       "        text-align: right;\n",
       "    }\n",
       "</style>\n",
       "<table border=\"1\" class=\"dataframe\">\n",
       "  <thead>\n",
       "    <tr style=\"text-align: right;\">\n",
       "      <th></th>\n",
       "      <th>textID</th>\n",
       "      <th>text</th>\n",
       "      <th>selected_text</th>\n",
       "      <th>sentiment</th>\n",
       "      <th>url</th>\n",
       "      <th>emoji</th>\n",
       "      <th>email</th>\n",
       "      <th>hash</th>\n",
       "      <th>at_mention</th>\n",
       "      <th>number</th>\n",
       "      <th>...</th>\n",
       "      <th>only_words</th>\n",
       "      <th>only_num</th>\n",
       "      <th>bound</th>\n",
       "      <th>search_day</th>\n",
       "      <th>pick_senence</th>\n",
       "      <th>pick_unique</th>\n",
       "      <th>caps_word</th>\n",
       "      <th>text_length</th>\n",
       "      <th>char_length</th>\n",
       "      <th>get_id</th>\n",
       "    </tr>\n",
       "  </thead>\n",
       "  <tbody>\n",
       "    <tr>\n",
       "      <th>23957</th>\n",
       "      <td>db1eddbe0b</td>\n",
       "      <td>All the money in the world could never make me...</td>\n",
       "      <td>All the money in the world could never make me...</td>\n",
       "      <td>positive</td>\n",
       "      <td></td>\n",
       "      <td>[]</td>\n",
       "      <td></td>\n",
       "      <td></td>\n",
       "      <td></td>\n",
       "      <td></td>\n",
       "      <td>...</td>\n",
       "      <td>All the money in the world could never make me...</td>\n",
       "      <td></td>\n",
       "      <td></td>\n",
       "      <td>False</td>\n",
       "      <td>[]</td>\n",
       "      <td>[All the money in the world could never make m...</td>\n",
       "      <td>[All]</td>\n",
       "      <td>20</td>\n",
       "      <td>95</td>\n",
       "      <td>[]</td>\n",
       "    </tr>\n",
       "    <tr>\n",
       "      <th>9908</th>\n",
       "      <td>df10d3b9ae</td>\n",
       "      <td>having my hair dyed today  ugh im bored. still...</td>\n",
       "      <td>bored.</td>\n",
       "      <td>negative</td>\n",
       "      <td></td>\n",
       "      <td>[]</td>\n",
       "      <td></td>\n",
       "      <td></td>\n",
       "      <td></td>\n",
       "      <td></td>\n",
       "      <td>...</td>\n",
       "      <td>having my hair dyed today ugh im bored still t...</td>\n",
       "      <td></td>\n",
       "      <td></td>\n",
       "      <td>True</td>\n",
       "      <td>[]</td>\n",
       "      <td>[having my hair dyed today  ugh im bored. stil...</td>\n",
       "      <td>[]</td>\n",
       "      <td>17</td>\n",
       "      <td>91</td>\n",
       "      <td>[]</td>\n",
       "    </tr>\n",
       "    <tr>\n",
       "      <th>21692</th>\n",
       "      <td>f3c809719d</td>\n",
       "      <td>http://twitpic.com/4j9eo this is  how it looks...</td>\n",
       "      <td>this is  how it looks at nights</td>\n",
       "      <td>neutral</td>\n",
       "      <td>http://twitpic.com/4j9eo</td>\n",
       "      <td>[]</td>\n",
       "      <td></td>\n",
       "      <td></td>\n",
       "      <td></td>\n",
       "      <td>4 9</td>\n",
       "      <td>...</td>\n",
       "      <td>http twitpic com this is how it looks at nights</td>\n",
       "      <td></td>\n",
       "      <td></td>\n",
       "      <td>False</td>\n",
       "      <td>[]</td>\n",
       "      <td>[http://twitpic.com/4j9eo this is  how it look...</td>\n",
       "      <td>[]</td>\n",
       "      <td>8</td>\n",
       "      <td>56</td>\n",
       "      <td>[]</td>\n",
       "    </tr>\n",
       "    <tr>\n",
       "      <th>10745</th>\n",
       "      <td>5c2f7d006f</td>\n",
       "      <td>Watching Ace of Cakes: LOST edition omfgggg</td>\n",
       "      <td>Watching Ace of Cakes: LOST edition omfgggg</td>\n",
       "      <td>neutral</td>\n",
       "      <td></td>\n",
       "      <td>[]</td>\n",
       "      <td></td>\n",
       "      <td></td>\n",
       "      <td></td>\n",
       "      <td></td>\n",
       "      <td>...</td>\n",
       "      <td>Watching Ace of Cakes LOST edition omfgggg</td>\n",
       "      <td></td>\n",
       "      <td></td>\n",
       "      <td>False</td>\n",
       "      <td>[]</td>\n",
       "      <td>[Watching Ace of Cakes: LOST edition omfgggg]</td>\n",
       "      <td>[Watching, Ace, Cakes, LOST]</td>\n",
       "      <td>7</td>\n",
       "      <td>43</td>\n",
       "      <td>[]</td>\n",
       "    </tr>\n",
       "    <tr>\n",
       "      <th>25058</th>\n",
       "      <td>30cd7e7f6b</td>\n",
       "      <td>doesn`t kno wat to do now ER is over  saddo</td>\n",
       "      <td>saddo</td>\n",
       "      <td>negative</td>\n",
       "      <td></td>\n",
       "      <td>[]</td>\n",
       "      <td></td>\n",
       "      <td></td>\n",
       "      <td></td>\n",
       "      <td></td>\n",
       "      <td>...</td>\n",
       "      <td>doesn t kno wat to do now ER is over saddo</td>\n",
       "      <td></td>\n",
       "      <td></td>\n",
       "      <td>False</td>\n",
       "      <td>[]</td>\n",
       "      <td>[doesn`t kno wat to do now ER is over  saddo]</td>\n",
       "      <td>[ER]</td>\n",
       "      <td>10</td>\n",
       "      <td>43</td>\n",
       "      <td>[]</td>\n",
       "    </tr>\n",
       "    <tr>\n",
       "      <th>10797</th>\n",
       "      <td>77f30fbea3</td>\n",
       "      <td>AHhh FCUKKK...i missed out AGAIN  You must fi...</td>\n",
       "      <td>AHhh FCUKKK...i missed out AGAIN</td>\n",
       "      <td>negative</td>\n",
       "      <td></td>\n",
       "      <td>[]</td>\n",
       "      <td></td>\n",
       "      <td></td>\n",
       "      <td></td>\n",
       "      <td></td>\n",
       "      <td>...</td>\n",
       "      <td>AHhh FCUKKK i missed out AGAIN You must fill m...</td>\n",
       "      <td></td>\n",
       "      <td></td>\n",
       "      <td>False</td>\n",
       "      <td>[]</td>\n",
       "      <td>[ AHhh FCUKKK...i missed out AGAIN  You must f...</td>\n",
       "      <td>[AHhh, FCUKKK, AGAIN, You]</td>\n",
       "      <td>15</td>\n",
       "      <td>92</td>\n",
       "      <td>[]</td>\n",
       "    </tr>\n",
       "    <tr>\n",
       "      <th>13137</th>\n",
       "      <td>547dd32f1f</td>\n",
       "      <td>my day is going way too fast</td>\n",
       "      <td>my day is going way too fast</td>\n",
       "      <td>neutral</td>\n",
       "      <td></td>\n",
       "      <td>[]</td>\n",
       "      <td></td>\n",
       "      <td></td>\n",
       "      <td></td>\n",
       "      <td></td>\n",
       "      <td>...</td>\n",
       "      <td>my day is going way too fast</td>\n",
       "      <td></td>\n",
       "      <td></td>\n",
       "      <td>True</td>\n",
       "      <td>[]</td>\n",
       "      <td>[my day is going way too fast]</td>\n",
       "      <td>[]</td>\n",
       "      <td>7</td>\n",
       "      <td>28</td>\n",
       "      <td>[]</td>\n",
       "    </tr>\n",
       "    <tr>\n",
       "      <th>10406</th>\n",
       "      <td>fe9c3d9a81</td>\n",
       "      <td>alright, so day was going well, but got home, ...</td>\n",
       "      <td>alright, so day was going well, but got home, ...</td>\n",
       "      <td>neutral</td>\n",
       "      <td></td>\n",
       "      <td>[]</td>\n",
       "      <td></td>\n",
       "      <td></td>\n",
       "      <td></td>\n",
       "      <td></td>\n",
       "      <td>...</td>\n",
       "      <td>alright so day was going well but got home and...</td>\n",
       "      <td></td>\n",
       "      <td></td>\n",
       "      <td>True</td>\n",
       "      <td>[]</td>\n",
       "      <td>[alright, so day was going well, but got home,...</td>\n",
       "      <td>[]</td>\n",
       "      <td>16</td>\n",
       "      <td>78</td>\n",
       "      <td>[]</td>\n",
       "    </tr>\n",
       "    <tr>\n",
       "      <th>15235</th>\n",
       "      <td>9b5b2a36ca</td>\n",
       "      <td>It`s about to rain!!</td>\n",
       "      <td>It`s about to rain!!</td>\n",
       "      <td>neutral</td>\n",
       "      <td></td>\n",
       "      <td>[]</td>\n",
       "      <td></td>\n",
       "      <td></td>\n",
       "      <td></td>\n",
       "      <td></td>\n",
       "      <td>...</td>\n",
       "      <td>It s about to rain</td>\n",
       "      <td></td>\n",
       "      <td></td>\n",
       "      <td>False</td>\n",
       "      <td>[]</td>\n",
       "      <td>[It`s about to rain!!]</td>\n",
       "      <td>[It]</td>\n",
       "      <td>4</td>\n",
       "      <td>20</td>\n",
       "      <td>[]</td>\n",
       "    </tr>\n",
       "    <tr>\n",
       "      <th>25731</th>\n",
       "      <td>818ac912a5</td>\n",
       "      <td>i`ll take a lookie, sound great</td>\n",
       "      <td>sound great</td>\n",
       "      <td>positive</td>\n",
       "      <td></td>\n",
       "      <td>[]</td>\n",
       "      <td></td>\n",
       "      <td></td>\n",
       "      <td></td>\n",
       "      <td></td>\n",
       "      <td>...</td>\n",
       "      <td>i ll take a lookie sound great</td>\n",
       "      <td></td>\n",
       "      <td></td>\n",
       "      <td>False</td>\n",
       "      <td>[]</td>\n",
       "      <td>[ i`ll take a lookie, sound great]</td>\n",
       "      <td>[]</td>\n",
       "      <td>6</td>\n",
       "      <td>32</td>\n",
       "      <td>[]</td>\n",
       "    </tr>\n",
       "  </tbody>\n",
       "</table>\n",
       "<p>10 rows × 32 columns</p>\n",
       "</div>"
      ],
      "text/plain": [
       "           textID                                               text  \\\n",
       "23957  db1eddbe0b  All the money in the world could never make me...   \n",
       "9908   df10d3b9ae  having my hair dyed today  ugh im bored. still...   \n",
       "21692  f3c809719d  http://twitpic.com/4j9eo this is  how it looks...   \n",
       "10745  5c2f7d006f        Watching Ace of Cakes: LOST edition omfgggg   \n",
       "25058  30cd7e7f6b        doesn`t kno wat to do now ER is over  saddo   \n",
       "10797  77f30fbea3   AHhh FCUKKK...i missed out AGAIN  You must fi...   \n",
       "13137  547dd32f1f                       my day is going way too fast   \n",
       "10406  fe9c3d9a81  alright, so day was going well, but got home, ...   \n",
       "15235  9b5b2a36ca                               It`s about to rain!!   \n",
       "25731  818ac912a5                    i`ll take a lookie, sound great   \n",
       "\n",
       "                                           selected_text sentiment  \\\n",
       "23957  All the money in the world could never make me...  positive   \n",
       "9908                                              bored.  negative   \n",
       "21692                    this is  how it looks at nights   neutral   \n",
       "10745        Watching Ace of Cakes: LOST edition omfgggg   neutral   \n",
       "25058                                              saddo  negative   \n",
       "10797                   AHhh FCUKKK...i missed out AGAIN  negative   \n",
       "13137                       my day is going way too fast   neutral   \n",
       "10406  alright, so day was going well, but got home, ...   neutral   \n",
       "15235                               It`s about to rain!!   neutral   \n",
       "25731                                        sound great  positive   \n",
       "\n",
       "                            url emoji email hash at_mention number  ...  \\\n",
       "23957                              []                               ...   \n",
       "9908                               []                               ...   \n",
       "21692  http://twitpic.com/4j9eo    []                          4 9  ...   \n",
       "10745                              []                               ...   \n",
       "25058                              []                               ...   \n",
       "10797                              []                               ...   \n",
       "13137                              []                               ...   \n",
       "10406                              []                               ...   \n",
       "15235                              []                               ...   \n",
       "25731                              []                               ...   \n",
       "\n",
       "                                              only_words only_num bound  \\\n",
       "23957  All the money in the world could never make me...                  \n",
       "9908   having my hair dyed today ugh im bored still t...                  \n",
       "21692    http twitpic com this is how it looks at nights                  \n",
       "10745         Watching Ace of Cakes LOST edition omfgggg                  \n",
       "25058         doesn t kno wat to do now ER is over saddo                  \n",
       "10797  AHhh FCUKKK i missed out AGAIN You must fill m...                  \n",
       "13137                       my day is going way too fast                  \n",
       "10406  alright so day was going well but got home and...                  \n",
       "15235                                 It s about to rain                  \n",
       "25731                     i ll take a lookie sound great                  \n",
       "\n",
       "      search_day pick_senence  \\\n",
       "23957      False           []   \n",
       "9908        True           []   \n",
       "21692      False           []   \n",
       "10745      False           []   \n",
       "25058      False           []   \n",
       "10797      False           []   \n",
       "13137       True           []   \n",
       "10406       True           []   \n",
       "15235      False           []   \n",
       "25731      False           []   \n",
       "\n",
       "                                             pick_unique  \\\n",
       "23957  [All the money in the world could never make m...   \n",
       "9908   [having my hair dyed today  ugh im bored. stil...   \n",
       "21692  [http://twitpic.com/4j9eo this is  how it look...   \n",
       "10745      [Watching Ace of Cakes: LOST edition omfgggg]   \n",
       "25058      [doesn`t kno wat to do now ER is over  saddo]   \n",
       "10797  [ AHhh FCUKKK...i missed out AGAIN  You must f...   \n",
       "13137                     [my day is going way too fast]   \n",
       "10406  [alright, so day was going well, but got home,...   \n",
       "15235                             [It`s about to rain!!]   \n",
       "25731                 [ i`ll take a lookie, sound great]   \n",
       "\n",
       "                          caps_word text_length char_length get_id  \n",
       "23957                         [All]          20          95     []  \n",
       "9908                             []          17          91     []  \n",
       "21692                            []           8          56     []  \n",
       "10745  [Watching, Ace, Cakes, LOST]           7          43     []  \n",
       "25058                          [ER]          10          43     []  \n",
       "10797    [AHhh, FCUKKK, AGAIN, You]          15          92     []  \n",
       "13137                            []           7          28     []  \n",
       "10406                            []          16          78     []  \n",
       "15235                          [It]           4          20     []  \n",
       "25731                            []           6          32     []  \n",
       "\n",
       "[10 rows x 32 columns]"
      ]
     },
     "execution_count": 105,
     "metadata": {},
     "output_type": "execute_result"
    }
   ],
   "source": [
    "df.sample(10)\n",
    "# We will see empty values too as most of text may not have related feature.You can filter and check."
   ]
  },
  {
   "cell_type": "markdown",
   "metadata": {},
   "source": [
    "<font size=\"+3\" color=\"blue\"><b>5. End Notes</b></font><br> <a id=\"5\"></a>"
   ]
  },
  {
   "cell_type": "markdown",
   "metadata": {},
   "source": [
    "No worries.This is not the end of kernel.**I have updated this kernel with few more functions (Now version 16 is live)**.Going forward i will add more helper functions in upcoming versions.I would like to get appreciation from you with an 👍 .Please <font size=\"+1\" color=\"red\"><b>Upvote</b></font> and keep it in your favourite list.\n",
    "\n",
    "Thanks for your patience.\n",
    "\n",
    "\n",
    "*Happy Kaggling!!!*.\n"
   ]
  },
  {
   "cell_type": "markdown",
   "metadata": {},
   "source": [
    "<font size=\"+2\" color=\"chocolate\"><b>My other kernels</b></font><br>\n",
    "\n",
    "<div class=\"row\">\n",
    "   <div class=\"col-sm-4\">\n",
    "    <div class=\"card\">\n",
    "      <div class=\"card-body\" style=\"width: 20rem;\">\n",
    "        <h5 class=\"card-title\">Become Grandmaster</h5>\n",
    "          <img src=\"https://www.kindpng.com/picc/m/126-1263192_crown-king-silhouette-clipart-throughout-transparent-black-king.png\" class=\"card-img-top\" alt=\"...\">\n",
    "        <p class=\"card-text\">Explored strategies and principles followed by Grandmasters</p>\n",
    "        <a href=\"https://www.kaggle.com/raenish/become-grandmaster\" class=\"btn btn-primary\" style=\"color:white;\">Go to Become GrandMaster</a>\n",
    "      </div>\n",
    "    </div>\n",
    "  </div>  \n",
    "  <div class=\"col-sm-4\">\n",
    "    <div class=\"card\">\n",
    "      <div class=\"card-body\" style=\"width: 20rem;\">\n",
    "        <h5 class=\"card-title\"> Cheatsheet Date Helpers</h5>\n",
    "          <img src=\"https://encrypted-tbn0.gstatic.com/images?q=tbn%3AANd9GcTinMTry75SqOXP1z97S17-lsVCjO-CPHw6VpcEwjk9q1DYjpJb&usqp=CAU\" class=\"card-img-top\" alt=\"...\">\n",
    "        <p class=\"card-text\">Date/Time formating codes for different date feature generation used for time series.</p>\n",
    "        <a href=\"https://www.kaggle.com/raenish/cheatsheet-date-helpers\" class=\"btn btn-primary\" style=\"color:white;\">Go to Cheatsheet Date</a>\n",
    "      </div>\n",
    "    </div>\n",
    "  </div>\n",
    "      <div class=\"col-sm-4\">\n",
    "    <div class=\"card\">\n",
    "      <div class=\"card-body\" style=\"width: 20rem;\">\n",
    "          <h5 class=\"card-title\">Tweet Sentiment Extraction</h5>\n",
    "          <img src=\"https://storage.needpix.com/rsynced_images/tweet-3250004_1280.jpg\" class=\"card-img-top\" alt=\"...\">\n",
    "        <p class=\"card-text\">EDA and Modeling on Tweet Sentiment Extraction competition</p>\n",
    "        <a href=\"https://www.kaggle.com/raenish/tweet-sentiment-insight-eda\" class=\"btn btn-primary\" style=\"color:white;\">Go to Tweet Sentiment</a>\n",
    "      </div>\n",
    "    </div>\n",
    "  </div>\n",
    "</div>"
   ]
  },
  {
   "cell_type": "markdown",
   "metadata": {},
   "source": [
    "And yes,if you above kernels,please give an appreciation to me via an <font size=\"+1\" color=\"red\"><b>Upvote</b></font>."
   ]
  },
  {
   "cell_type": "markdown",
   "metadata": {},
   "source": [
    "<font size=\"+2\" color=\"chocolate\"><b>Reference</b></font><br>\n",
    "* https://www.guru99.com/python-regular-expressions-complete-tutorial.html\n",
    "* https://docs.python.org/3.4/library/re.html\n",
    "* https://www3.ntu.edu.sg/home/ehchua/programming/howto/Regexe.html#zz-1.9\n",
    "* https://www.debuggex.com/cheatsheet/regex/python\n",
    "* https://blog.finxter.com/python-regex-and-operator-tutorial-video/\n",
    "* https://www.oreilly.com/library/view/regular-expressions-cookbook/9781449327453/ch04s04.html\n",
    "* https://www.webfx.com/tools/emoji-cheat-sheet/"
   ]
  },
  {
   "cell_type": "markdown",
   "metadata": {},
   "source": [
    "**Version 18** : <font size=\"+3\" color=\"red\"><b><i>Loading...</i></b></font><br><br>\n",
    "<a href=\"#top\" class=\"btn btn-success btn-lg active\" role=\"button\" aria-pressed=\"true\" style=\"color:white\" data-toggle=\"popover\" title=\"go to Colors\">Go to TOP</a>"
   ]
  }
 ],
 "metadata": {
  "kernelspec": {
   "display_name": "Python 3",
   "language": "python",
   "name": "python3"
  },
  "language_info": {
   "codemirror_mode": {
    "name": "ipython",
    "version": 3
   },
   "file_extension": ".py",
   "mimetype": "text/x-python",
   "name": "python",
   "nbconvert_exporter": "python",
   "pygments_lexer": "ipython3",
   "version": "3.7.4"
  }
 },
 "nbformat": 4,
 "nbformat_minor": 4
}
