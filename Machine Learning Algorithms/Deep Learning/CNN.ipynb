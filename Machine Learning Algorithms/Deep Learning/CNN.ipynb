{
 "cells": [
  {
   "cell_type": "code",
   "execution_count": 1,
   "metadata": {},
   "outputs": [
    {
     "name": "stderr",
     "output_type": "stream",
     "text": [
      "Using TensorFlow backend.\n"
     ]
    }
   ],
   "source": [
    "from keras.layers import Conv2D,MaxPooling2D,Dense,Flatten\n",
    "from keras.models import Sequential"
   ]
  },
  {
   "cell_type": "code",
   "execution_count": 2,
   "metadata": {},
   "outputs": [],
   "source": [
    "dl=Sequential()\n",
    "dl.add(Conv2D(32,(3,3),input_shape=(64,64,3),activation='relu'))\n",
    "dl.add(MaxPooling2D(pool_size=(2,2)))\n",
    "dl.add(Flatten())\n",
    "dl.add(Dense(units=128,activation='relu'))\n",
    "dl.add(Dense(units=1,activation='sigmoid'))"
   ]
  },
  {
   "cell_type": "code",
   "execution_count": 18,
   "metadata": {},
   "outputs": [],
   "source": [
    "dl.compile(optimizer='adam',loss='binary_crossentropy',metrics=['accuracy'])"
   ]
  },
  {
   "cell_type": "code",
   "execution_count": 19,
   "metadata": {},
   "outputs": [
    {
     "name": "stdout",
     "output_type": "stream",
     "text": [
      "Found 8000 images belonging to 2 classes.\n",
      "Found 2000 images belonging to 2 classes.\n"
     ]
    }
   ],
   "source": [
    "from keras.preprocessing.image import ImageDataGenerator\n",
    "train_datagen = ImageDataGenerator(\n",
    "        rescale=1./255,\n",
    "        shear_range=0.2,\n",
    "        zoom_range=0.2,\n",
    "        horizontal_flip=True)\n",
    "\n",
    "test_datagen = ImageDataGenerator(rescale=1./255)\n",
    "\n",
    "train_set = train_datagen.flow_from_directory(\n",
    "        'dataset/training_set',\n",
    "        target_size=(64, 64),\n",
    "        batch_size=32,\n",
    "        class_mode='binary')\n",
    "\n",
    "test_set = test_datagen.flow_from_directory(\n",
    "        'dataset/test_set',\n",
    "        target_size=(64, 64),\n",
    "        batch_size=32,\n",
    "        class_mode='binary')\n",
    "\n"
   ]
  },
  {
   "cell_type": "code",
   "execution_count": null,
   "metadata": {},
   "outputs": [
    {
     "name": "stdout",
     "output_type": "stream",
     "text": [
      "Epoch 1/50\n",
      "8000/8000 [==============================] - 5303s 663ms/step - loss: 0.4104 - accuracy: 0.8048 - val_loss: 0.8363 - val_accuracy: 0.7660\n",
      "Epoch 2/50\n",
      "8000/8000 [==============================] - 3124s 391ms/step - loss: 0.1717 - accuracy: 0.9314 - val_loss: 1.7235 - val_accuracy: 0.7672\n",
      "Epoch 3/50\n",
      "8000/8000 [==============================] - 3013s 377ms/step - loss: 0.0908 - accuracy: 0.9664 - val_loss: 3.0041 - val_accuracy: 0.7633\n",
      "Epoch 4/50\n",
      "8000/8000 [==============================] - 2366s 296ms/step - loss: 0.0628 - accuracy: 0.9778 - val_loss: 1.8200 - val_accuracy: 0.7594\n",
      "Epoch 5/50\n",
      "8000/8000 [==============================] - 2370s 296ms/step - loss: 0.0496 - accuracy: 0.9830 - val_loss: 1.0478 - val_accuracy: 0.7538\n",
      "Epoch 6/50\n",
      "8000/8000 [==============================] - 2434s 304ms/step - loss: 0.0404 - accuracy: 0.9862 - val_loss: 1.5673 - val_accuracy: 0.7679\n",
      "Epoch 7/50\n",
      "8000/8000 [==============================] - 2378s 297ms/step - loss: 0.0348 - accuracy: 0.9883 - val_loss: 2.7341 - val_accuracy: 0.7618\n",
      "Epoch 8/50\n",
      "8000/8000 [==============================] - 2396s 299ms/step - loss: 0.0303 - accuracy: 0.9899 - val_loss: 1.8068 - val_accuracy: 0.7624\n",
      "Epoch 9/50\n",
      "8000/8000 [==============================] - 2397s 300ms/step - loss: 0.0278 - accuracy: 0.9908 - val_loss: 4.5521 - val_accuracy: 0.7654\n",
      "Epoch 10/50\n",
      "8000/8000 [==============================] - 2400s 300ms/step - loss: 0.0251 - accuracy: 0.9918 - val_loss: 1.9877 - val_accuracy: 0.7685\n",
      "Epoch 11/50\n",
      "8000/8000 [==============================] - 2409s 301ms/step - loss: 0.0231 - accuracy: 0.9925 - val_loss: 0.9887 - val_accuracy: 0.7640\n",
      "Epoch 12/50\n",
      "8000/8000 [==============================] - 2425s 303ms/step - loss: 0.0200 - accuracy: 0.9935 - val_loss: 3.2944 - val_accuracy: 0.7581\n",
      "Epoch 13/50\n",
      "8000/8000 [==============================] - 2904s 363ms/step - loss: 0.0199 - accuracy: 0.9937 - val_loss: 1.3394 - val_accuracy: 0.7459\n",
      "Epoch 14/50\n",
      "8000/8000 [==============================] - 2454s 307ms/step - loss: 0.0180 - accuracy: 0.9943 - val_loss: 1.9073 - val_accuracy: 0.7531\n",
      "Epoch 15/50\n",
      "8000/8000 [==============================] - 2459s 307ms/step - loss: 0.0166 - accuracy: 0.9949 - val_loss: 4.9631 - val_accuracy: 0.7598\n",
      "Epoch 16/50\n",
      "8000/8000 [==============================] - 2509s 314ms/step - loss: 0.0151 - accuracy: 0.9951 - val_loss: 5.0216 - val_accuracy: 0.7590\n",
      "Epoch 17/50\n",
      "8000/8000 [==============================] - 2544s 318ms/step - loss: 0.0156 - accuracy: 0.9951 - val_loss: 4.6728 - val_accuracy: 0.7600\n",
      "Epoch 18/50\n",
      "8000/8000 [==============================] - 2726s 341ms/step - loss: 0.0144 - accuracy: 0.9956 - val_loss: 3.4490 - val_accuracy: 0.7696\n",
      "Epoch 19/50\n",
      "8000/8000 [==============================] - 2604s 325ms/step - loss: 0.0138 - accuracy: 0.9959 - val_loss: 4.1743 - val_accuracy: 0.7599\n",
      "Epoch 20/50\n",
      "3955/8000 [=============>................] - ETA: 25:00 - loss: 0.0128 - accuracy: 0.9961"
     ]
    }
   ],
   "source": [
    "dl.fit_generator(train_set, steps_per_epoch=8000, epochs=50, validation_data=test_set, validation_steps=2000)"
   ]
  },
  {
   "cell_type": "code",
   "execution_count": null,
   "metadata": {},
   "outputs": [],
   "source": []
  }
 ],
 "metadata": {
  "kernelspec": {
   "display_name": "Python 3",
   "language": "python",
   "name": "python3"
  },
  "language_info": {
   "codemirror_mode": {
    "name": "ipython",
    "version": 3
   },
   "file_extension": ".py",
   "mimetype": "text/x-python",
   "name": "python",
   "nbconvert_exporter": "python",
   "pygments_lexer": "ipython3",
   "version": "3.7.4"
  }
 },
 "nbformat": 4,
 "nbformat_minor": 2
}
