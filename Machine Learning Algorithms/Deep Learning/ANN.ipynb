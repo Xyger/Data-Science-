{
 "cells": [
  {
   "cell_type": "code",
   "execution_count": 24,
   "metadata": {},
   "outputs": [],
   "source": [
    "import pandas as pd\n",
    "import numpy as np\n",
    "import matplotlib.pyplot as plt"
   ]
  },
  {
   "cell_type": "code",
   "execution_count": 25,
   "metadata": {},
   "outputs": [],
   "source": [
    "dataset=pd.read_csv('Churn_Modelling.csv');\n",
    "X=dataset.iloc[:,3:13].values\n",
    "y=dataset.iloc[:,13].values"
   ]
  },
  {
   "cell_type": "code",
   "execution_count": 26,
   "metadata": {},
   "outputs": [
    {
     "name": "stderr",
     "output_type": "stream",
     "text": [
      "C:\\Users\\Saurav\\Anaconda3\\lib\\site-packages\\sklearn\\preprocessing\\_encoders.py:415: FutureWarning: The handling of integer data will change in version 0.22. Currently, the categories are determined based on the range [0, max(values)], while in the future they will be determined based on the unique values.\n",
      "If you want the future behaviour and silence this warning, you can specify \"categories='auto'\".\n",
      "In case you used a LabelEncoder before this OneHotEncoder to convert the categories to integers, then you can now use the OneHotEncoder directly.\n",
      "  warnings.warn(msg, FutureWarning)\n"
     ]
    }
   ],
   "source": [
    "from sklearn.preprocessing import LabelEncoder,OneHotEncoder\n",
    "from sklearn.compose import ColumnTransformer\n",
    "lbe1=LabelEncoder()\n",
    "lbe2=LabelEncoder()\n",
    "X[:,1]=lbe1.fit_transform(X[:,1])\n",
    "X[:,2]=lbe2.fit_transform(X[:,2])\n",
    "ct=ColumnTransformer([('encoder',OneHotEncoder(),[1])],remainder='passthrough')\n",
    "X=np.array(ct.fit_transform(X),dtype=int)\n",
    "X=X[:,1:]"
   ]
  },
  {
   "cell_type": "code",
   "execution_count": 27,
   "metadata": {},
   "outputs": [
    {
     "data": {
      "text/plain": [
       "array([[     0,      0,    619, ...,      1,      1, 101348],\n",
       "       [     0,      1,    608, ...,      0,      1, 112542],\n",
       "       [     0,      0,    502, ...,      1,      0, 113931],\n",
       "       ...,\n",
       "       [     0,      0,    709, ...,      0,      1,  42085],\n",
       "       [     1,      0,    772, ...,      1,      0,  92888],\n",
       "       [     0,      0,    792, ...,      1,      0,  38190]])"
      ]
     },
     "execution_count": 27,
     "metadata": {},
     "output_type": "execute_result"
    }
   ],
   "source": [
    "X"
   ]
  },
  {
   "cell_type": "code",
   "execution_count": 28,
   "metadata": {},
   "outputs": [],
   "source": [
    "from sklearn.model_selection import train_test_split\n",
    "x_train,x_test,y_train,y_test=train_test_split(X,y,test_size=0.2)\n",
    "from sklearn.preprocessing import StandardScaler\n",
    "sc=StandardScaler()\n",
    "x_train=sc.fit_transform(x_train)\n",
    "x_test=sc.transform(x_test)"
   ]
  },
  {
   "cell_type": "code",
   "execution_count": 29,
   "metadata": {},
   "outputs": [],
   "source": [
    "import keras\n",
    "from keras.models import Sequential\n",
    "from keras.layers import Dense"
   ]
  },
  {
   "cell_type": "code",
   "execution_count": 38,
   "metadata": {},
   "outputs": [],
   "source": [
    "dl=Sequential()\n",
    "dl.add(Dense(kernel_initializer='uniform',units=7,activation='relu',input_dim=11))\n",
    "dl.add(Dense(kernel_initializer='uniform',units=7,activation='relu'))\n",
    "dl.add(Dense(kernel_initializer='uniform',units=1,activation='sigmoid'))\n",
    "dl.compile(loss='binary_crossentropy',optimizer='adam',metrics=['accuracy'])"
   ]
  },
  {
   "cell_type": "code",
   "execution_count": 39,
   "metadata": {
    "scrolled": true
   },
   "outputs": [
    {
     "name": "stdout",
     "output_type": "stream",
     "text": [
      "Epoch 1/100\n",
      "8000/8000 [==============================] - 2s 306us/step - loss: 0.4994 - accuracy: 0.7935\n",
      "Epoch 2/100\n",
      "8000/8000 [==============================] - 2s 196us/step - loss: 0.4332 - accuracy: 0.7941\n",
      "Epoch 3/100\n",
      "8000/8000 [==============================] - 2s 198us/step - loss: 0.4252 - accuracy: 0.8076\n",
      "Epoch 4/100\n",
      "8000/8000 [==============================] - 2s 198us/step - loss: 0.4183 - accuracy: 0.8286\n",
      "Epoch 5/100\n",
      "8000/8000 [==============================] - 2s 223us/step - loss: 0.4126 - accuracy: 0.8314\n",
      "Epoch 6/100\n",
      "8000/8000 [==============================] - 2s 194us/step - loss: 0.4094 - accuracy: 0.8349\n",
      "Epoch 7/100\n",
      "8000/8000 [==============================] - 2s 217us/step - loss: 0.4067 - accuracy: 0.8349\n",
      "Epoch 8/100\n",
      "8000/8000 [==============================] - 2s 199us/step - loss: 0.4048 - accuracy: 0.8332\n",
      "Epoch 9/100\n",
      "8000/8000 [==============================] - 2s 195us/step - loss: 0.4022 - accuracy: 0.8365\n",
      "Epoch 10/100\n",
      "8000/8000 [==============================] - 2s 207us/step - loss: 0.4018 - accuracy: 0.8341\n",
      "Epoch 11/100\n",
      "8000/8000 [==============================] - 1s 186us/step - loss: 0.4008 - accuracy: 0.8345\n",
      "Epoch 12/100\n",
      "8000/8000 [==============================] - 2s 229us/step - loss: 0.3996 - accuracy: 0.8381\n",
      "Epoch 13/100\n",
      "8000/8000 [==============================] - 2s 242us/step - loss: 0.3987 - accuracy: 0.8363\n",
      "Epoch 14/100\n",
      "8000/8000 [==============================] - 2s 247us/step - loss: 0.3980 - accuracy: 0.8366\n",
      "Epoch 15/100\n",
      "8000/8000 [==============================] - 2s 243us/step - loss: 0.3979 - accuracy: 0.8359\n",
      "Epoch 16/100\n",
      "8000/8000 [==============================] - 2s 248us/step - loss: 0.3971 - accuracy: 0.8365\n",
      "Epoch 17/100\n",
      "8000/8000 [==============================] - 2s 270us/step - loss: 0.3960 - accuracy: 0.8378\n",
      "Epoch 18/100\n",
      "8000/8000 [==============================] - 2s 245us/step - loss: 0.3959 - accuracy: 0.8382\n",
      "Epoch 19/100\n",
      "8000/8000 [==============================] - 2s 243us/step - loss: 0.3951 - accuracy: 0.8355\n",
      "Epoch 20/100\n",
      "8000/8000 [==============================] - 2s 247us/step - loss: 0.3933 - accuracy: 0.8374\n",
      "Epoch 21/100\n",
      "8000/8000 [==============================] - 2s 241us/step - loss: 0.3911 - accuracy: 0.8382\n",
      "Epoch 22/100\n",
      "8000/8000 [==============================] - 2s 245us/step - loss: 0.3885 - accuracy: 0.8405\n",
      "Epoch 23/100\n",
      "8000/8000 [==============================] - 2s 243us/step - loss: 0.3838 - accuracy: 0.8439\n",
      "Epoch 24/100\n",
      "8000/8000 [==============================] - 2s 241us/step - loss: 0.3779 - accuracy: 0.8440\n",
      "Epoch 25/100\n",
      "8000/8000 [==============================] - 2s 245us/step - loss: 0.3703 - accuracy: 0.8496\n",
      "Epoch 26/100\n",
      "8000/8000 [==============================] - 2s 244us/step - loss: 0.3638 - accuracy: 0.8480\n",
      "Epoch 27/100\n",
      "8000/8000 [==============================] - 2s 243us/step - loss: 0.3589 - accuracy: 0.8505\n",
      "Epoch 28/100\n",
      "8000/8000 [==============================] - 2s 262us/step - loss: 0.3556 - accuracy: 0.8512\n",
      "Epoch 29/100\n",
      "8000/8000 [==============================] - 3s 357us/step - loss: 0.3519 - accuracy: 0.8544\n",
      "Epoch 30/100\n",
      "8000/8000 [==============================] - 4s 457us/step - loss: 0.3505 - accuracy: 0.8553\n",
      "Epoch 31/100\n",
      "8000/8000 [==============================] - 2s 296us/step - loss: 0.3483 - accuracy: 0.8572\n",
      "Epoch 32/100\n",
      "8000/8000 [==============================] - 2s 254us/step - loss: 0.3476 - accuracy: 0.8576\n",
      "Epoch 33/100\n",
      "8000/8000 [==============================] - 2s 248us/step - loss: 0.3461 - accuracy: 0.8556\n",
      "Epoch 34/100\n",
      "8000/8000 [==============================] - 2s 262us/step - loss: 0.3449 - accuracy: 0.8587\n",
      "Epoch 35/100\n",
      "8000/8000 [==============================] - 2s 308us/step - loss: 0.3442 - accuracy: 0.8571\n",
      "Epoch 36/100\n",
      "8000/8000 [==============================] - 2s 266us/step - loss: 0.3437 - accuracy: 0.8596\n",
      "Epoch 37/100\n",
      "8000/8000 [==============================] - 3s 355us/step - loss: 0.3429 - accuracy: 0.8577\n",
      "Epoch 38/100\n",
      "8000/8000 [==============================] - 2s 290us/step - loss: 0.3424 - accuracy: 0.8608\n",
      "Epoch 39/100\n",
      "8000/8000 [==============================] - 2s 305us/step - loss: 0.3411 - accuracy: 0.8587\n",
      "Epoch 40/100\n",
      "8000/8000 [==============================] - 2s 306us/step - loss: 0.3415 - accuracy: 0.8583\n",
      "Epoch 41/100\n",
      "8000/8000 [==============================] - 3s 314us/step - loss: 0.3401 - accuracy: 0.8611\n",
      "Epoch 42/100\n",
      "8000/8000 [==============================] - 2s 256us/step - loss: 0.3411 - accuracy: 0.8585\n",
      "Epoch 43/100\n",
      "8000/8000 [==============================] - 2s 258us/step - loss: 0.3401 - accuracy: 0.8609\n",
      "Epoch 44/100\n",
      "8000/8000 [==============================] - 2s 265us/step - loss: 0.3391 - accuracy: 0.8601\n",
      "Epoch 45/100\n",
      "8000/8000 [==============================] - 2s 246us/step - loss: 0.3390 - accuracy: 0.8587\n",
      "Epoch 46/100\n",
      "8000/8000 [==============================] - 2s 247us/step - loss: 0.3388 - accuracy: 0.8609\n",
      "Epoch 47/100\n",
      "8000/8000 [==============================] - 2s 252us/step - loss: 0.3392 - accuracy: 0.8611\n",
      "Epoch 48/100\n",
      "8000/8000 [==============================] - 2s 281us/step - loss: 0.3387 - accuracy: 0.8595\n",
      "Epoch 49/100\n",
      "8000/8000 [==============================] - 2s 246us/step - loss: 0.3383 - accuracy: 0.8605\n",
      "Epoch 50/100\n",
      "8000/8000 [==============================] - 2s 248us/step - loss: 0.3390 - accuracy: 0.8626\n",
      "Epoch 51/100\n",
      "8000/8000 [==============================] - 2s 243us/step - loss: 0.3382 - accuracy: 0.8602\n",
      "Epoch 52/100\n",
      "8000/8000 [==============================] - 2s 243us/step - loss: 0.3382 - accuracy: 0.8602\n",
      "Epoch 53/100\n",
      "8000/8000 [==============================] - 2s 243us/step - loss: 0.3378 - accuracy: 0.8605\n",
      "Epoch 54/100\n",
      "8000/8000 [==============================] - 2s 244us/step - loss: 0.3384 - accuracy: 0.8604\n",
      "Epoch 55/100\n",
      "8000/8000 [==============================] - 2s 243us/step - loss: 0.3387 - accuracy: 0.8601\n",
      "Epoch 56/100\n",
      "8000/8000 [==============================] - 3s 388us/step - loss: 0.3371 - accuracy: 0.8612\n",
      "Epoch 57/100\n",
      "8000/8000 [==============================] - 4s 468us/step - loss: 0.3375 - accuracy: 0.8606\n",
      "Epoch 58/100\n",
      "8000/8000 [==============================] - 2s 301us/step - loss: 0.3369 - accuracy: 0.8589\n",
      "Epoch 59/100\n",
      "8000/8000 [==============================] - 2s 253us/step - loss: 0.3374 - accuracy: 0.8605\n",
      "Epoch 60/100\n",
      "8000/8000 [==============================] - 2s 239us/step - loss: 0.3374 - accuracy: 0.8606\n",
      "Epoch 61/100\n",
      "8000/8000 [==============================] - 2s 242us/step - loss: 0.3366 - accuracy: 0.8621\n",
      "Epoch 62/100\n",
      "8000/8000 [==============================] - 2s 241us/step - loss: 0.3377 - accuracy: 0.8599\n",
      "Epoch 63/100\n",
      "8000/8000 [==============================] - 2s 238us/step - loss: 0.3370 - accuracy: 0.8622\n",
      "Epoch 64/100\n",
      "8000/8000 [==============================] - 2s 243us/step - loss: 0.3366 - accuracy: 0.8599\n",
      "Epoch 65/100\n",
      "8000/8000 [==============================] - 2s 241us/step - loss: 0.3371 - accuracy: 0.8602\n",
      "Epoch 66/100\n",
      "8000/8000 [==============================] - 2s 239us/step - loss: 0.3364 - accuracy: 0.8615\n",
      "Epoch 67/100\n",
      "8000/8000 [==============================] - 2s 242us/step - loss: 0.3359 - accuracy: 0.8608\n",
      "Epoch 68/100\n",
      "8000/8000 [==============================] - 2s 254us/step - loss: 0.3360 - accuracy: 0.8629\n",
      "Epoch 69/100\n",
      "8000/8000 [==============================] - 2s 248us/step - loss: 0.3365 - accuracy: 0.8620\n",
      "Epoch 70/100\n",
      "8000/8000 [==============================] - 2s 240us/step - loss: 0.3369 - accuracy: 0.8594\n",
      "Epoch 71/100\n",
      "8000/8000 [==============================] - 2s 241us/step - loss: 0.3359 - accuracy: 0.8618\n",
      "Epoch 72/100\n",
      "8000/8000 [==============================] - 2s 244us/step - loss: 0.3366 - accuracy: 0.8597\n",
      "Epoch 73/100\n",
      "8000/8000 [==============================] - 2s 247us/step - loss: 0.3365 - accuracy: 0.8616\n",
      "Epoch 74/100\n",
      "8000/8000 [==============================] - 2s 246us/step - loss: 0.3364 - accuracy: 0.8618\n",
      "Epoch 75/100\n",
      "8000/8000 [==============================] - 2s 245us/step - loss: 0.3352 - accuracy: 0.8622\n",
      "Epoch 76/100\n",
      "8000/8000 [==============================] - 2s 241us/step - loss: 0.3360 - accuracy: 0.8616\n",
      "Epoch 77/100\n",
      "8000/8000 [==============================] - 2s 242us/step - loss: 0.3354 - accuracy: 0.8604\n",
      "Epoch 78/100\n"
     ]
    },
    {
     "name": "stdout",
     "output_type": "stream",
     "text": [
      "8000/8000 [==============================] - 2s 243us/step - loss: 0.3354 - accuracy: 0.8622\n",
      "Epoch 79/100\n",
      "8000/8000 [==============================] - 2s 244us/step - loss: 0.3353 - accuracy: 0.8620\n",
      "Epoch 80/100\n",
      "8000/8000 [==============================] - 2s 243us/step - loss: 0.3359 - accuracy: 0.8606\n",
      "Epoch 81/100\n",
      "8000/8000 [==============================] - 2s 259us/step - loss: 0.3354 - accuracy: 0.8630\n",
      "Epoch 82/100\n",
      "8000/8000 [==============================] - 2s 250us/step - loss: 0.3356 - accuracy: 0.8599\n",
      "Epoch 83/100\n",
      "8000/8000 [==============================] - 2s 244us/step - loss: 0.3352 - accuracy: 0.8620\n",
      "Epoch 84/100\n",
      "8000/8000 [==============================] - 2s 255us/step - loss: 0.3354 - accuracy: 0.8624\n",
      "Epoch 85/100\n",
      "8000/8000 [==============================] - 4s 490us/step - loss: 0.3349 - accuracy: 0.8616\n",
      "Epoch 86/100\n",
      "8000/8000 [==============================] - 3s 360us/step - loss: 0.3355 - accuracy: 0.8630\n",
      "Epoch 87/100\n",
      "8000/8000 [==============================] - 2s 246us/step - loss: 0.3349 - accuracy: 0.8612\n",
      "Epoch 88/100\n",
      "8000/8000 [==============================] - 2s 246us/step - loss: 0.3349 - accuracy: 0.8597\n",
      "Epoch 89/100\n",
      "8000/8000 [==============================] - 2s 245us/step - loss: 0.3346 - accuracy: 0.8631\n",
      "Epoch 90/100\n",
      "8000/8000 [==============================] - 2s 249us/step - loss: 0.3345 - accuracy: 0.8629\n",
      "Epoch 91/100\n",
      "8000/8000 [==============================] - 2s 243us/step - loss: 0.3352 - accuracy: 0.8605\n",
      "Epoch 92/100\n",
      "8000/8000 [==============================] - 2s 245us/step - loss: 0.3348 - accuracy: 0.8629\n",
      "Epoch 93/100\n",
      "8000/8000 [==============================] - 2s 259us/step - loss: 0.3347 - accuracy: 0.8608\n",
      "Epoch 94/100\n",
      "8000/8000 [==============================] - 2s 244us/step - loss: 0.3344 - accuracy: 0.8637\n",
      "Epoch 95/100\n",
      "8000/8000 [==============================] - 2s 247us/step - loss: 0.3348 - accuracy: 0.8608\n",
      "Epoch 96/100\n",
      "8000/8000 [==============================] - 2s 244us/step - loss: 0.3345 - accuracy: 0.8625\n",
      "Epoch 97/100\n",
      "8000/8000 [==============================] - 2s 245us/step - loss: 0.3345 - accuracy: 0.8621\n",
      "Epoch 98/100\n",
      "8000/8000 [==============================] - 2s 243us/step - loss: 0.3346 - accuracy: 0.8615\n",
      "Epoch 99/100\n",
      "8000/8000 [==============================] - 2s 248us/step - loss: 0.3344 - accuracy: 0.8619\n",
      "Epoch 100/100\n",
      "8000/8000 [==============================] - 2s 244us/step - loss: 0.3341 - accuracy: 0.8614\n"
     ]
    },
    {
     "data": {
      "text/plain": [
       "<keras.callbacks.callbacks.History at 0x27fd9f6fb48>"
      ]
     },
     "execution_count": 39,
     "metadata": {},
     "output_type": "execute_result"
    }
   ],
   "source": [
    "dl.fit(x_train,y_train,batch_size=10,epochs=100)"
   ]
  },
  {
   "cell_type": "code",
   "execution_count": 40,
   "metadata": {},
   "outputs": [],
   "source": [
    "y_pred=dl.predict(x_test)\n",
    "y_pred=y_pred>0.5\n"
   ]
  },
  {
   "cell_type": "code",
   "execution_count": 41,
   "metadata": {},
   "outputs": [
    {
     "data": {
      "text/plain": [
       "0.859"
      ]
     },
     "execution_count": 41,
     "metadata": {},
     "output_type": "execute_result"
    }
   ],
   "source": [
    "from sklearn.metrics import accuracy_score\n",
    "accuracy_score(y_test,y_pred)"
   ]
  },
  {
   "cell_type": "code",
   "execution_count": null,
   "metadata": {},
   "outputs": [],
   "source": []
  },
  {
   "cell_type": "code",
   "execution_count": null,
   "metadata": {},
   "outputs": [],
   "source": []
  }
 ],
 "metadata": {
  "kernelspec": {
   "display_name": "Python 3",
   "language": "python",
   "name": "python3"
  },
  "language_info": {
   "codemirror_mode": {
    "name": "ipython",
    "version": 3
   },
   "file_extension": ".py",
   "mimetype": "text/x-python",
   "name": "python",
   "nbconvert_exporter": "python",
   "pygments_lexer": "ipython3",
   "version": "3.7.4"
  }
 },
 "nbformat": 4,
 "nbformat_minor": 2
}
