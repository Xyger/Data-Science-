{
 "cells": [
  {
   "cell_type": "code",
   "execution_count": 1,
   "metadata": {
    "_cell_guid": "b1076dfc-b9ad-4769-8c92-a6c4dae69d19",
    "_uuid": "8f2839f25d086af736a60e9eeb907d3b93b6e0e5"
   },
   "outputs": [
    {
     "name": "stdout",
     "output_type": "stream",
     "text": [
      "/kaggle/input/mod4.csv\n",
      "/kaggle/input/mod8.csv\n",
      "/kaggle/input/mod11.csv\n",
      "/kaggle/input/mod9.csv\n",
      "/kaggle/input/mod3.csv\n",
      "/kaggle/input/mod5.csv\n",
      "/kaggle/input/mod10.csv\n",
      "/kaggle/input/mod1.csv\n",
      "/kaggle/input/mod2.csv\n",
      "/kaggle/input/mod12.csv\n",
      "/kaggle/input/mod6.csv\n",
      "/kaggle/input/mod7.csv\n"
     ]
    }
   ],
   "source": [
    "# This Python 3 environment comes with many helpful analytics libraries installed\n",
    "# It is defined by the kaggle/python Docker image: https://github.com/kaggle/docker-python\n",
    "# For example, here's several helpful packages to load\n",
    "\n",
    "import numpy as np # linear algebra\n",
    "import pandas as pd # data processing, CSV file I/O (e.g. pd.read_csv)\n",
    "\n",
    "# Input data files are available in the read-only \"../input/\" directory\n",
    "# For example, running this (by clicking run or pressing Shift+Enter) will list all files under the input directory\n",
    "\n",
    "import os\n",
    "for dirname, _, filenames in os.walk('/kaggle/input'):\n",
    "    for filename in filenames:\n",
    "        print(os.path.join(dirname, filename))\n",
    "\n",
    "# You can write up to 5GB to the current directory (/kaggle/working/) that gets preserved as output when you create a version using \"Save & Run All\" \n",
    "# You can also write temporary files to /kaggle/temp/, but they won't be saved outside of the current session"
   ]
  },
  {
   "cell_type": "code",
   "execution_count": 2,
   "metadata": {
    "_cell_guid": "79c7e3d0-c299-4dcb-8224-4455121ee9b0",
    "_uuid": "d629ff2d2480ee46fbb7e2d37f6b5fab8052498a"
   },
   "outputs": [],
   "source": [
    "ans=0\n",
    "for i in range(1,13):\n",
    "    data=pd.read_csv('../input/mod'+str(i)+'.csv')\n",
    "    y_pred=np.array(data['Survived'])\n",
    "    ans=ans+y_pred"
   ]
  },
  {
   "cell_type": "code",
   "execution_count": 3,
   "metadata": {},
   "outputs": [
    {
     "data": {
      "text/plain": [
       "array([ 0,  9,  1,  0, 12,  0,  7,  0, 12,  0,  0,  0, 12,  2, 12, 12,  0,\n",
       "        0,  7, 12,  3,  7, 12,  6, 12,  0, 12,  0,  6,  0,  0,  0, 12,  6,\n",
       "        7,  0,  8,  1,  0,  7,  0,  6,  0, 12, 12,  0,  0,  1, 12, 12,  3,\n",
       "        0, 12, 12,  0,  0,  0,  0,  0, 12,  0,  0,  0, 12, 10, 12, 12,  0,\n",
       "        3, 12, 12,  0,  6,  3, 12,  1,  0, 12,  0, 12, 12,  0,  0,  0,  0,\n",
       "        0, 12,  7, 10, 12, 12,  1, 12,  0,  2,  0, 12,  0, 11,  0, 12,  0,\n",
       "        1,  0,  8,  0,  0,  1,  0,  0,  0, 12, 12, 12, 12,  0,  1, 12,  4,\n",
       "       12, 12,  0, 12,  0,  1,  9,  0, 12,  0,  0,  0,  0,  0,  1,  0,  0,\n",
       "        0,  0,  4,  0,  0, 12,  3,  0,  6,  0,  0,  0,  6,  0, 12,  0,  0,\n",
       "       12,  0,  0, 12,  9,  6, 12, 12, 11, 12,  4,  0, 12,  2,  0, 12,  1,\n",
       "        0,  0,  0,  0,  1, 12, 12,  3, 12, 12,  0,  4, 12,  1, 12,  0, 12,\n",
       "        0,  0,  0,  0,  0,  7,  0, 12,  0, 12,  9,  0,  9, 11, 12,  6, 12,\n",
       "        0,  0,  8,  0, 12,  0,  1,  1,  0, 12,  2,  0, 12,  0, 12,  0, 12,\n",
       "        0, 12,  0, 12,  6,  0, 12,  0,  0,  3, 12,  0,  0,  3,  0,  0,  1,\n",
       "       12, 12, 12, 12,  3,  0, 11,  0, 12,  0, 12,  7, 11,  0,  2,  0,  0,\n",
       "        0,  1,  0, 12,  0,  0,  0, 12, 12,  0,  0,  0,  0,  8,  0,  0,  1,\n",
       "       12,  7,  0, 12,  0,  0,  0,  0,  1, 12, 12,  6, 12,  0,  0,  0,  0,\n",
       "        0,  0,  4,  0,  5,  0,  0, 12,  0,  0,  0,  0,  0,  0,  0, 12, 12,\n",
       "        1, 12,  0,  6,  0,  0,  0,  6, 12, 12,  0,  0,  0,  0,  0,  0,  0,\n",
       "       12, 12,  0, 12,  0,  0,  0, 12,  1,  0, 11,  0,  0,  1,  0,  0, 11,\n",
       "        0,  0,  0, 12,  9, 10,  0, 12,  0, 12, 12,  0,  0,  0, 12,  0, 12,\n",
       "        0,  1, 12,  0, 12, 12,  0, 12,  0,  0,  8, 12,  2,  0, 12,  0,  0,\n",
       "       12, 12,  0,  0,  0,  4,  1,  0, 10, 12,  0, 12,  0,  0,  0,  0,  3,\n",
       "       12, 10,  0,  0, 12,  0, 12,  0,  0, 12,  0, 12,  0,  0,  2,  0,  0,\n",
       "       12, 12, 12, 12,  5,  0, 12,  0,  0, 12])"
      ]
     },
     "execution_count": 3,
     "metadata": {},
     "output_type": "execute_result"
    }
   ],
   "source": [
    "ans"
   ]
  },
  {
   "cell_type": "code",
   "execution_count": 4,
   "metadata": {},
   "outputs": [],
   "source": [
    "\n",
    "for i in range(418):\n",
    "  if ans[i]>7:\n",
    "    ans[i]=1\n",
    "  else:\n",
    "    ans[i]=0"
   ]
  },
  {
   "cell_type": "code",
   "execution_count": 5,
   "metadata": {},
   "outputs": [],
   "source": [
    "Result= pd.DataFrame({\n",
    "        \"PassengerId\": data[\"PassengerId\"],\n",
    "        \"Survived\": ans\n",
    "    })"
   ]
  },
  {
   "cell_type": "code",
   "execution_count": 6,
   "metadata": {},
   "outputs": [],
   "source": [
    "Result.to_csv('result.csv',index=False)"
   ]
  },
  {
   "cell_type": "code",
   "execution_count": null,
   "metadata": {},
   "outputs": [],
   "source": []
  }
 ],
 "metadata": {
  "kernelspec": {
   "display_name": "Python 3",
   "language": "python",
   "name": "python3"
  },
  "language_info": {
   "codemirror_mode": {
    "name": "ipython",
    "version": 3
   },
   "file_extension": ".py",
   "mimetype": "text/x-python",
   "name": "python",
   "nbconvert_exporter": "python",
   "pygments_lexer": "ipython3",
   "version": "3.7.6"
  }
 },
 "nbformat": 4,
 "nbformat_minor": 4
}
